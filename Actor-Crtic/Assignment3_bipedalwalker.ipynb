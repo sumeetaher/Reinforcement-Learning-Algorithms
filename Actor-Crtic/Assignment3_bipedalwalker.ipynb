{
  "cells": [
    {
      "cell_type": "markdown",
      "metadata": {
        "id": "E2zfQizCtONJ"
      },
      "source": [
        "\"I/we certify that the code and data in this assignment were generated independently, using only the tools and resources defined in the course and that I/we did not receive any external help, coaching or contributions during the production of this work.\""
      ]
    },
    {
      "cell_type": "code",
      "source": [
        "!pip install Box2D\n",
        "# !pip3 install -U 'mujoco-py<2.2,>=2.1'\n",
        "# !apt-get install -y \\\n",
        "#     libgl1-mesa-dev \\\n",
        "#     libgl1-mesa-glx \\\n",
        "#     libglew-dev \\\n",
        "#     libosmesa6-dev \\\n",
        "#     software-properties-common\n",
        "\n",
        "# !apt-get install -y patchelf\n",
        "# !pip install free-mujoco-py\n",
        "# import mujoco_py\n",
        "# import os\n",
        "# mj_path = mujoco_py.utils.discover_mujoco()\n",
        "# xml_path = os.path.join(mj_path, 'model', 'humanoid.xml')\n",
        "# model = mujoco_py.load_model_from_path(xml_path)\n",
        "# sim = mujoco_py.MjSim(model)"
      ],
      "metadata": {
        "colab": {
          "base_uri": "https://localhost:8080/"
        },
        "id": "HI3B_Wt6_kZZ",
        "outputId": "703bc367-5278-40b4-fb32-d34fff7733c2"
      },
      "execution_count": 1,
      "outputs": [
        {
          "output_type": "stream",
          "name": "stdout",
          "text": [
            "Collecting Box2D\n",
            "  Downloading Box2D-2.3.10-cp37-cp37m-manylinux1_x86_64.whl (1.3 MB)\n",
            "\u001b[?25l\r\u001b[K     |▎                               | 10 kB 23.6 MB/s eta 0:00:01\r\u001b[K     |▌                               | 20 kB 28.4 MB/s eta 0:00:01\r\u001b[K     |▊                               | 30 kB 21.7 MB/s eta 0:00:01\r\u001b[K     |█                               | 40 kB 5.6 MB/s eta 0:00:01\r\u001b[K     |█▎                              | 51 kB 6.8 MB/s eta 0:00:01\r\u001b[K     |█▌                              | 61 kB 8.0 MB/s eta 0:00:01\r\u001b[K     |█▊                              | 71 kB 8.9 MB/s eta 0:00:01\r\u001b[K     |██                              | 81 kB 9.7 MB/s eta 0:00:01\r\u001b[K     |██▎                             | 92 kB 10.7 MB/s eta 0:00:01\r\u001b[K     |██▌                             | 102 kB 7.7 MB/s eta 0:00:01\r\u001b[K     |██▊                             | 112 kB 7.7 MB/s eta 0:00:01\r\u001b[K     |███                             | 122 kB 7.7 MB/s eta 0:00:01\r\u001b[K     |███▏                            | 133 kB 7.7 MB/s eta 0:00:01\r\u001b[K     |███▌                            | 143 kB 7.7 MB/s eta 0:00:01\r\u001b[K     |███▊                            | 153 kB 7.7 MB/s eta 0:00:01\r\u001b[K     |████                            | 163 kB 7.7 MB/s eta 0:00:01\r\u001b[K     |████▏                           | 174 kB 7.7 MB/s eta 0:00:01\r\u001b[K     |████▌                           | 184 kB 7.7 MB/s eta 0:00:01\r\u001b[K     |████▊                           | 194 kB 7.7 MB/s eta 0:00:01\r\u001b[K     |█████                           | 204 kB 7.7 MB/s eta 0:00:01\r\u001b[K     |█████▏                          | 215 kB 7.7 MB/s eta 0:00:01\r\u001b[K     |█████▌                          | 225 kB 7.7 MB/s eta 0:00:01\r\u001b[K     |█████▊                          | 235 kB 7.7 MB/s eta 0:00:01\r\u001b[K     |██████                          | 245 kB 7.7 MB/s eta 0:00:01\r\u001b[K     |██████▏                         | 256 kB 7.7 MB/s eta 0:00:01\r\u001b[K     |██████▍                         | 266 kB 7.7 MB/s eta 0:00:01\r\u001b[K     |██████▊                         | 276 kB 7.7 MB/s eta 0:00:01\r\u001b[K     |███████                         | 286 kB 7.7 MB/s eta 0:00:01\r\u001b[K     |███████▏                        | 296 kB 7.7 MB/s eta 0:00:01\r\u001b[K     |███████▍                        | 307 kB 7.7 MB/s eta 0:00:01\r\u001b[K     |███████▊                        | 317 kB 7.7 MB/s eta 0:00:01\r\u001b[K     |████████                        | 327 kB 7.7 MB/s eta 0:00:01\r\u001b[K     |████████▏                       | 337 kB 7.7 MB/s eta 0:00:01\r\u001b[K     |████████▍                       | 348 kB 7.7 MB/s eta 0:00:01\r\u001b[K     |████████▊                       | 358 kB 7.7 MB/s eta 0:00:01\r\u001b[K     |█████████                       | 368 kB 7.7 MB/s eta 0:00:01\r\u001b[K     |█████████▏                      | 378 kB 7.7 MB/s eta 0:00:01\r\u001b[K     |█████████▍                      | 389 kB 7.7 MB/s eta 0:00:01\r\u001b[K     |█████████▋                      | 399 kB 7.7 MB/s eta 0:00:01\r\u001b[K     |██████████                      | 409 kB 7.7 MB/s eta 0:00:01\r\u001b[K     |██████████▏                     | 419 kB 7.7 MB/s eta 0:00:01\r\u001b[K     |██████████▍                     | 430 kB 7.7 MB/s eta 0:00:01\r\u001b[K     |██████████▋                     | 440 kB 7.7 MB/s eta 0:00:01\r\u001b[K     |███████████                     | 450 kB 7.7 MB/s eta 0:00:01\r\u001b[K     |███████████▏                    | 460 kB 7.7 MB/s eta 0:00:01\r\u001b[K     |███████████▍                    | 471 kB 7.7 MB/s eta 0:00:01\r\u001b[K     |███████████▋                    | 481 kB 7.7 MB/s eta 0:00:01\r\u001b[K     |████████████                    | 491 kB 7.7 MB/s eta 0:00:01\r\u001b[K     |████████████▏                   | 501 kB 7.7 MB/s eta 0:00:01\r\u001b[K     |████████████▍                   | 512 kB 7.7 MB/s eta 0:00:01\r\u001b[K     |████████████▋                   | 522 kB 7.7 MB/s eta 0:00:01\r\u001b[K     |████████████▉                   | 532 kB 7.7 MB/s eta 0:00:01\r\u001b[K     |█████████████▏                  | 542 kB 7.7 MB/s eta 0:00:01\r\u001b[K     |█████████████▍                  | 552 kB 7.7 MB/s eta 0:00:01\r\u001b[K     |█████████████▋                  | 563 kB 7.7 MB/s eta 0:00:01\r\u001b[K     |█████████████▉                  | 573 kB 7.7 MB/s eta 0:00:01\r\u001b[K     |██████████████▏                 | 583 kB 7.7 MB/s eta 0:00:01\r\u001b[K     |██████████████▍                 | 593 kB 7.7 MB/s eta 0:00:01\r\u001b[K     |██████████████▋                 | 604 kB 7.7 MB/s eta 0:00:01\r\u001b[K     |██████████████▉                 | 614 kB 7.7 MB/s eta 0:00:01\r\u001b[K     |███████████████▏                | 624 kB 7.7 MB/s eta 0:00:01\r\u001b[K     |███████████████▍                | 634 kB 7.7 MB/s eta 0:00:01\r\u001b[K     |███████████████▋                | 645 kB 7.7 MB/s eta 0:00:01\r\u001b[K     |███████████████▉                | 655 kB 7.7 MB/s eta 0:00:01\r\u001b[K     |████████████████                | 665 kB 7.7 MB/s eta 0:00:01\r\u001b[K     |████████████████▍               | 675 kB 7.7 MB/s eta 0:00:01\r\u001b[K     |████████████████▋               | 686 kB 7.7 MB/s eta 0:00:01\r\u001b[K     |████████████████▉               | 696 kB 7.7 MB/s eta 0:00:01\r\u001b[K     |█████████████████               | 706 kB 7.7 MB/s eta 0:00:01\r\u001b[K     |█████████████████▍              | 716 kB 7.7 MB/s eta 0:00:01\r\u001b[K     |█████████████████▋              | 727 kB 7.7 MB/s eta 0:00:01\r\u001b[K     |█████████████████▉              | 737 kB 7.7 MB/s eta 0:00:01\r\u001b[K     |██████████████████              | 747 kB 7.7 MB/s eta 0:00:01\r\u001b[K     |██████████████████▎             | 757 kB 7.7 MB/s eta 0:00:01\r\u001b[K     |██████████████████▋             | 768 kB 7.7 MB/s eta 0:00:01\r\u001b[K     |██████████████████▉             | 778 kB 7.7 MB/s eta 0:00:01\r\u001b[K     |███████████████████             | 788 kB 7.7 MB/s eta 0:00:01\r\u001b[K     |███████████████████▎            | 798 kB 7.7 MB/s eta 0:00:01\r\u001b[K     |███████████████████▋            | 808 kB 7.7 MB/s eta 0:00:01\r\u001b[K     |███████████████████▉            | 819 kB 7.7 MB/s eta 0:00:01\r\u001b[K     |████████████████████            | 829 kB 7.7 MB/s eta 0:00:01\r\u001b[K     |████████████████████▎           | 839 kB 7.7 MB/s eta 0:00:01\r\u001b[K     |████████████████████▋           | 849 kB 7.7 MB/s eta 0:00:01\r\u001b[K     |████████████████████▉           | 860 kB 7.7 MB/s eta 0:00:01\r\u001b[K     |█████████████████████           | 870 kB 7.7 MB/s eta 0:00:01\r\u001b[K     |█████████████████████▎          | 880 kB 7.7 MB/s eta 0:00:01\r\u001b[K     |█████████████████████▌          | 890 kB 7.7 MB/s eta 0:00:01\r\u001b[K     |█████████████████████▉          | 901 kB 7.7 MB/s eta 0:00:01\r\u001b[K     |██████████████████████          | 911 kB 7.7 MB/s eta 0:00:01\r\u001b[K     |██████████████████████▎         | 921 kB 7.7 MB/s eta 0:00:01\r\u001b[K     |██████████████████████▌         | 931 kB 7.7 MB/s eta 0:00:01\r\u001b[K     |██████████████████████▉         | 942 kB 7.7 MB/s eta 0:00:01\r\u001b[K     |███████████████████████         | 952 kB 7.7 MB/s eta 0:00:01\r\u001b[K     |███████████████████████▎        | 962 kB 7.7 MB/s eta 0:00:01\r\u001b[K     |███████████████████████▌        | 972 kB 7.7 MB/s eta 0:00:01\r\u001b[K     |███████████████████████▉        | 983 kB 7.7 MB/s eta 0:00:01\r\u001b[K     |████████████████████████        | 993 kB 7.7 MB/s eta 0:00:01\r\u001b[K     |████████████████████████▎       | 1.0 MB 7.7 MB/s eta 0:00:01\r\u001b[K     |████████████████████████▌       | 1.0 MB 7.7 MB/s eta 0:00:01\r\u001b[K     |████████████████████████▊       | 1.0 MB 7.7 MB/s eta 0:00:01\r\u001b[K     |█████████████████████████       | 1.0 MB 7.7 MB/s eta 0:00:01\r\u001b[K     |█████████████████████████▎      | 1.0 MB 7.7 MB/s eta 0:00:01\r\u001b[K     |█████████████████████████▌      | 1.1 MB 7.7 MB/s eta 0:00:01\r\u001b[K     |█████████████████████████▊      | 1.1 MB 7.7 MB/s eta 0:00:01\r\u001b[K     |██████████████████████████      | 1.1 MB 7.7 MB/s eta 0:00:01\r\u001b[K     |██████████████████████████▎     | 1.1 MB 7.7 MB/s eta 0:00:01\r\u001b[K     |██████████████████████████▌     | 1.1 MB 7.7 MB/s eta 0:00:01\r\u001b[K     |██████████████████████████▊     | 1.1 MB 7.7 MB/s eta 0:00:01\r\u001b[K     |███████████████████████████     | 1.1 MB 7.7 MB/s eta 0:00:01\r\u001b[K     |███████████████████████████▎    | 1.1 MB 7.7 MB/s eta 0:00:01\r\u001b[K     |███████████████████████████▌    | 1.1 MB 7.7 MB/s eta 0:00:01\r\u001b[K     |███████████████████████████▊    | 1.1 MB 7.7 MB/s eta 0:00:01\r\u001b[K     |████████████████████████████    | 1.2 MB 7.7 MB/s eta 0:00:01\r\u001b[K     |████████████████████████████▎   | 1.2 MB 7.7 MB/s eta 0:00:01\r\u001b[K     |████████████████████████████▌   | 1.2 MB 7.7 MB/s eta 0:00:01\r\u001b[K     |████████████████████████████▊   | 1.2 MB 7.7 MB/s eta 0:00:01\r\u001b[K     |█████████████████████████████   | 1.2 MB 7.7 MB/s eta 0:00:01\r\u001b[K     |█████████████████████████████▎  | 1.2 MB 7.7 MB/s eta 0:00:01\r\u001b[K     |█████████████████████████████▌  | 1.2 MB 7.7 MB/s eta 0:00:01\r\u001b[K     |█████████████████████████████▊  | 1.2 MB 7.7 MB/s eta 0:00:01\r\u001b[K     |██████████████████████████████  | 1.2 MB 7.7 MB/s eta 0:00:01\r\u001b[K     |██████████████████████████████▎ | 1.2 MB 7.7 MB/s eta 0:00:01\r\u001b[K     |██████████████████████████████▌ | 1.3 MB 7.7 MB/s eta 0:00:01\r\u001b[K     |██████████████████████████████▊ | 1.3 MB 7.7 MB/s eta 0:00:01\r\u001b[K     |███████████████████████████████ | 1.3 MB 7.7 MB/s eta 0:00:01\r\u001b[K     |███████████████████████████████▏| 1.3 MB 7.7 MB/s eta 0:00:01\r\u001b[K     |███████████████████████████████▌| 1.3 MB 7.7 MB/s eta 0:00:01\r\u001b[K     |███████████████████████████████▊| 1.3 MB 7.7 MB/s eta 0:00:01\r\u001b[K     |████████████████████████████████| 1.3 MB 7.7 MB/s eta 0:00:01\r\u001b[K     |████████████████████████████████| 1.3 MB 7.7 MB/s \n",
            "\u001b[?25hInstalling collected packages: Box2D\n",
            "Successfully installed Box2D-2.3.10\n"
          ]
        }
      ]
    },
    {
      "cell_type": "code",
      "execution_count": 1,
      "metadata": {
        "id": "1wM4nmFjVv3l"
      },
      "outputs": [],
      "source": [
        "import numpy as np\n",
        "import matplotlib.pyplot as plt\n",
        "import gym\n",
        "# from gym import spaces\n",
        "import tensorflow as tf\n",
        "import random, math, time\n",
        "from tensorflow.keras.models import Sequential\n",
        "from tensorflow.keras.layers import Dense\n",
        "from tensorflow.keras.optimizers import Adam\n",
        "import tensorflow_probability as tfp\n",
        "tfd = tfp.distributions"
      ]
    },
    {
      "cell_type": "code",
      "execution_count": 2,
      "metadata": {
        "id": "i3kbhJYdV-UP",
        "colab": {
          "base_uri": "https://localhost:8080/"
        },
        "outputId": "55886684-684c-4009-88f9-9d4c54d4edf9"
      },
      "outputs": [
        {
          "output_type": "stream",
          "name": "stdout",
          "text": [
            "(4,)\n",
            "(24,)\n",
            "[inf inf inf inf inf inf inf inf inf inf inf inf inf inf inf inf inf inf\n",
            " inf inf inf inf inf inf]\n",
            "[-inf -inf -inf -inf -inf -inf -inf -inf -inf -inf -inf -inf -inf -inf\n",
            " -inf -inf -inf -inf -inf -inf -inf -inf -inf -inf]\n"
          ]
        },
        {
          "output_type": "stream",
          "name": "stderr",
          "text": [
            "/usr/local/lib/python3.7/dist-packages/gym/logger.py:30: UserWarning: \u001b[33mWARN: Box bound precision lowered by casting to float32\u001b[0m\n",
            "  warnings.warn(colorize('%s: %s'%('WARN', msg % args), 'yellow'))\n"
          ]
        }
      ],
      "source": [
        "bipedal_env = gym.make('BipedalWalker-v3')\n",
        "bipedal_env.reset()\n",
        "print(bipedal_env.action_space.shape)\n",
        "print(bipedal_env.observation_space.shape)\n",
        "print(bipedal_env.observation_space.high)\n",
        "print(bipedal_env.observation_space.low)\n"
      ]
    },
    {
      "cell_type": "markdown",
      "metadata": {
        "id": "lbbKUIQ-jZy5"
      },
      "source": [
        "Below is the replay buffer class"
      ]
    },
    {
      "cell_type": "code",
      "execution_count": 3,
      "metadata": {
        "id": "YsDoOAzdj7-o"
      },
      "outputs": [],
      "source": [
        "class Agent:\n",
        "  def __init__(self, env):\n",
        "    self.env = env\n",
        "    self.observation_space = env.observation_space\n",
        "    self.action_space = env.action_space\n",
        "\n",
        "  def step(self, observation):\n",
        "    return np.random.choice(self.action_space.n)"
      ]
    },
    {
      "cell_type": "markdown",
      "metadata": {
        "id": "ewGOByaEjhns"
      },
      "source": [
        "Below is the NN initialization, training class\n",
        "\n",
        "> Indented block\n",
        "\n"
      ]
    },
    {
      "cell_type": "code",
      "source": [
        "def helper(numpy_array):\n",
        "  arg = tf.convert_to_tensor(numpy_array, dtype=tf.float32)\n",
        "  return arg"
      ],
      "metadata": {
        "id": "GOA3GWDJSOht"
      },
      "execution_count": 4,
      "outputs": []
    },
    {
      "cell_type": "code",
      "source": [
        "class Actor:\n",
        "  def __init__(self, alfr, actor_input_state_dim, actor_output_action_dim):\n",
        "    self.model = self.actor_network_model(alfr, actor_input_state_dim, actor_output_action_dim)\n",
        "    self.opt = tf.keras.optimizers.Adam(0.0005)\n",
        "\n",
        "  def actor_network_model(self, alr, actor_input_state_dim,actor_output_action_dim):\n",
        "    model = Sequential()\n",
        "    model.add(Dense(128, input_dim=actor_input_state_dim, activation='relu'))\n",
        "    model.add(Dense(64, activation='relu'))\n",
        "    model.add(Dense(actor_output_action_dim, activation='softmax'))\n",
        "    return model\n",
        "\n",
        "  def actor_train(self, obs, action, adv):\n",
        "    with tf.GradientTape() as tape:\n",
        "      actor_pred = self.model(obs, training=True)\n",
        "      actor_loss = tf.keras.losses.SparseCategoricalCrossentropy(from_logits=True)(action, tf.reshape(actor_pred,(4,1)),sample_weight=tf.stop_gradient(adv))\n",
        "    grads = tape.gradient(actor_loss, self.model.trainable_variables)\n",
        "    self.opt.apply_gradients(zip(grads, self.model.trainable_variables))\n",
        "    return actor_loss"
      ],
      "metadata": {
        "id": "fbdUVgPBRQgC"
      },
      "execution_count": 54,
      "outputs": []
    },
    {
      "cell_type": "code",
      "source": [
        "class Critic:\n",
        "  def __init__(self, clr, critic_input_state_dim, critic_output_action_dim):\n",
        "    self.model = self.critic_network_model(clr, critic_input_state_dim, critic_output_action_dim)\n",
        "    self.opt = tf.keras.optimizers.Adam(0.0005)\n",
        "\n",
        "  def critic_network_model(self,clr,critic_input_state_dim,critic_output_action_dim):\n",
        "    model = Sequential()\n",
        "    model.add(Dense(128, input_dim=critic_input_state_dim, activation='relu'))\n",
        "    model.add(Dense(64, activation='relu'))\n",
        "    model.add(Dense(critic_output_action_dim, activation='linear'))\n",
        "    return model\n",
        "    \n",
        "  def critic_train(self, obs, adv):\n",
        "    with tf.GradientTape() as tape:\n",
        "      critic_pred = self.model(obs, training=True)\n",
        "      critic_loss = tf.keras.losses.MeanSquaredError()(tf.stop_gradient(adv), critic_pred)\n",
        "    critic_grads = tape.gradient(critic_loss, self.model.trainable_variables)\n",
        "    self.opt.apply_gradients(zip(critic_grads, self.model.trainable_variables))\n",
        "    return critic_loss"
      ],
      "metadata": {
        "id": "FsEyhEAORS_7"
      },
      "execution_count": 55,
      "outputs": []
    },
    {
      "cell_type": "code",
      "source": [
        "class A2C:\n",
        "  def __init__(self,env,agent):\n",
        "    self.env = env\n",
        "    self.agent = agent\n",
        "    self.observation_space = env.observation_space\n",
        "    self.obervation_size = env.observation_space.shape[0]\n",
        "    self.action_space = env.action_space\n",
        "    self.reward_per_episode = []\n",
        "    self.average_reward = [0]*10\n",
        "\n",
        "  def train(self,episodes,gamma,actor_lr, critic_lr):\n",
        "    obs = self.env.reset()\n",
        "    action_size = self.env.action_space.shape[0]\n",
        "    self.actor = Actor(actor_lr,self.obervation_size,action_size)\n",
        "    self.critic = Critic(critic_lr,self.obervation_size,1)\n",
        "    average_idx = 0\n",
        "\n",
        "    #print(\"8: episodes begin\")\n",
        "    for eps_n in range(episodes):\n",
        "        obs = self.env.reset()\n",
        "        done_iter = False\n",
        "        cumm_reward=0\n",
        "        step_no=1\n",
        "\n",
        "        #print(\"9: steps start for episode {}\".format(str(eps_n)))\n",
        "        while not done_iter:\n",
        "          \n",
        "          obs_reshaped = tf.reshape(helper(obs),(1,self.obervation_size))\n",
        "\n",
        "          next_q = self.actor.model.predict(obs_reshaped)\n",
        "          #print(\"next_q: {}\".format(next_q))\n",
        "\n",
        "          action_prob = tfp.distributions.Categorical(probs=next_q)\n",
        "          #print(\"action_prob {}\".format(action_prob))\n",
        "          action = action_prob.sample(sample_shape=4)\n",
        "          \n",
        "          action_reshaped = tf.reshape(action,(1,4))\n",
        "          #print(\"action_reshaped {}\".format(action_reshaped))\n",
        "          action_numpy = tf.gather(action_reshaped,0).numpy()\n",
        "          action_reshaped = tf.reshape(helper(action_numpy),(1,4))\n",
        "          #print(\"action_reshaped: {}\".format(action_reshaped.shape))\n",
        "\n",
        "          obs_next, reward, done_iter, info = self.env.step(action_numpy)\n",
        "          #print(\"obs_next: {}\".format(obs_next))\n",
        "          #print(\"reward: {}\".format(reward))\n",
        "          #print(\"done_iter: {}\".format(done_iter))\n",
        "          #print(\"info: {}\".format(info))\n",
        "\n",
        "          critic_obs = self.critic.model.predict(obs_reshaped) \n",
        "          #print(\"critic_obs: {}\".format(critic_obs))\n",
        "\n",
        "          obs_next_reshaped = tf.reshape(helper(obs_next),(1,self.obervation_size))\n",
        "          critic_obs_next = self.critic.model.predict(obs_next_reshaped) \n",
        "          #print(\"critic_obs_next: {}\".format(critic_obs_next))\n",
        "\n",
        "          adv = reward + (1-done_iter)*gamma*critic_obs_next - critic_obs\n",
        "          #print(\"self.adv: {}\".format(self.adv))\n",
        "\n",
        "          critic_loss = self.critic.critic_train(obs_reshaped, adv+critic_obs)\n",
        "          actor_loss = self.actor.actor_train(obs_reshaped,tf.reshape(action,(4,1)), adv)\n",
        "\n",
        "          cumm_reward += reward\n",
        "          obs = obs_next\n",
        "          step_no += 1\n",
        "\n",
        "        self.reward_per_episode.append(cumm_reward)\n",
        "        average_idx = 0 if average_idx == 9 else 1 + average_idx\n",
        "        self.average_reward[average_idx] = cumm_reward\n",
        "        avg_reward = int(sum(self.average_reward)/len(self.average_reward))\n",
        "        if avg_reward >300: \n",
        "          break \n",
        "          print(\"average reward for the last consecutive episodes is \"+ avg_reward +\"greater than 470\")\n",
        "        print(\"cummulative reward is \" + str(cumm_reward) + \" for episode no. \" + str(eps_n + 1)  )  \n",
        "\n",
        "          \n",
        "          "
      ],
      "metadata": {
        "id": "yqSKDQhCOWyi"
      },
      "execution_count": 56,
      "outputs": []
    },
    {
      "cell_type": "code",
      "execution_count": 57,
      "metadata": {
        "id": "o2CqBV4ujqX7",
        "colab": {
          "base_uri": "https://localhost:8080/",
          "height": 1000
        },
        "outputId": "65ad9c1c-375c-4168-9a06-f2d8fbf860c3"
      },
      "outputs": [
        {
          "output_type": "stream",
          "name": "stdout",
          "text": [
            "cummulative reward is -92.70290598967547 for episode no. 1\n",
            "cummulative reward is -92.06127721544665 for episode no. 2\n",
            "cummulative reward is -92.09561301899764 for episode no. 3\n",
            "cummulative reward is -92.03975625879443 for episode no. 4\n",
            "cummulative reward is -91.90903954448488 for episode no. 5\n",
            "cummulative reward is -91.77908975367124 for episode no. 6\n",
            "cummulative reward is -91.98761361992608 for episode no. 7\n",
            "cummulative reward is -91.88519907013203 for episode no. 8\n",
            "cummulative reward is -91.8197577140915 for episode no. 9\n",
            "cummulative reward is -92.06680057073633 for episode no. 10\n",
            "cummulative reward is -91.85878359441026 for episode no. 11\n",
            "cummulative reward is -92.07469002871464 for episode no. 12\n",
            "cummulative reward is -92.04736001991357 for episode no. 13\n",
            "cummulative reward is -91.99637832290804 for episode no. 14\n",
            "cummulative reward is -91.94227090384811 for episode no. 15\n",
            "cummulative reward is -91.9560950352655 for episode no. 16\n",
            "cummulative reward is -91.98463897888239 for episode no. 17\n",
            "cummulative reward is -92.01729878402936 for episode no. 18\n",
            "cummulative reward is -92.06798660863811 for episode no. 19\n",
            "cummulative reward is -91.92173484705079 for episode no. 20\n",
            "cummulative reward is -92.00689322059043 for episode no. 21\n",
            "cummulative reward is -91.99008874308008 for episode no. 22\n",
            "cummulative reward is -92.07770418204989 for episode no. 23\n",
            "cummulative reward is -92.03347792398804 for episode no. 24\n",
            "cummulative reward is -91.87297690822743 for episode no. 25\n",
            "cummulative reward is -91.86522640381008 for episode no. 26\n",
            "cummulative reward is -91.98419088777155 for episode no. 27\n",
            "cummulative reward is -91.98525918337207 for episode no. 28\n",
            "cummulative reward is -91.81218110498351 for episode no. 29\n",
            "cummulative reward is -92.05553195159882 for episode no. 30\n",
            "cummulative reward is -91.97853469685651 for episode no. 31\n",
            "cummulative reward is -91.83490786639354 for episode no. 32\n",
            "cummulative reward is -91.94753374384406 for episode no. 33\n",
            "cummulative reward is -91.9943133337268 for episode no. 34\n",
            "cummulative reward is -91.80706088625205 for episode no. 35\n",
            "cummulative reward is -91.82292657430905 for episode no. 36\n",
            "cummulative reward is -92.04546151154985 for episode no. 37\n",
            "cummulative reward is -91.99834362976253 for episode no. 38\n",
            "cummulative reward is -91.83017340240379 for episode no. 39\n",
            "cummulative reward is -91.87420179042965 for episode no. 40\n",
            "cummulative reward is -91.89606343908235 for episode no. 41\n",
            "cummulative reward is -92.0261151754142 for episode no. 42\n",
            "cummulative reward is -91.7953863994529 for episode no. 43\n",
            "cummulative reward is -92.02128655835986 for episode no. 44\n",
            "cummulative reward is -91.85953570630711 for episode no. 45\n",
            "cummulative reward is -91.86118304116341 for episode no. 46\n",
            "cummulative reward is -91.84460306648786 for episode no. 47\n",
            "cummulative reward is -91.8872250681743 for episode no. 48\n",
            "cummulative reward is -92.01317388114208 for episode no. 49\n",
            "cummulative reward is -91.9817505357787 for episode no. 50\n",
            "cummulative reward is -92.07039042880449 for episode no. 51\n",
            "cummulative reward is -91.94697951121877 for episode no. 52\n",
            "cummulative reward is -91.82918523903936 for episode no. 53\n",
            "cummulative reward is -91.9775783662529 for episode no. 54\n",
            "cummulative reward is -91.98863850013974 for episode no. 55\n",
            "cummulative reward is -92.0049007749961 for episode no. 56\n",
            "cummulative reward is -91.96296516355748 for episode no. 57\n",
            "cummulative reward is -91.89176703741153 for episode no. 58\n",
            "cummulative reward is -91.81678891034487 for episode no. 59\n",
            "cummulative reward is -91.87171677763885 for episode no. 60\n",
            "cummulative reward is -91.86541251209565 for episode no. 61\n",
            "cummulative reward is -91.91153454803862 for episode no. 62\n",
            "cummulative reward is -91.91432255304728 for episode no. 63\n",
            "cummulative reward is -91.99770604019673 for episode no. 64\n",
            "cummulative reward is -91.88165848593539 for episode no. 65\n",
            "cummulative reward is -91.9069456985065 for episode no. 66\n",
            "cummulative reward is -92.01286316655266 for episode no. 67\n",
            "cummulative reward is -91.83946342905983 for episode no. 68\n",
            "cummulative reward is -91.81833521292234 for episode no. 69\n",
            "cummulative reward is -91.93735334160738 for episode no. 70\n",
            "cummulative reward is -91.94671617525941 for episode no. 71\n",
            "cummulative reward is -91.97062823649807 for episode no. 72\n",
            "cummulative reward is -91.83925006864592 for episode no. 73\n",
            "cummulative reward is -92.01068808798057 for episode no. 74\n",
            "cummulative reward is -91.76105931168422 for episode no. 75\n",
            "cummulative reward is -92.03270555256556 for episode no. 76\n",
            "cummulative reward is -92.03946313463773 for episode no. 77\n",
            "cummulative reward is -91.96420365509887 for episode no. 78\n",
            "cummulative reward is -91.86062551965006 for episode no. 79\n",
            "cummulative reward is -91.8806771254943 for episode no. 80\n",
            "cummulative reward is -91.85875917311448 for episode no. 81\n",
            "cummulative reward is -92.05496824059325 for episode no. 82\n",
            "cummulative reward is -91.93531830601083 for episode no. 83\n",
            "cummulative reward is -92.07271043560468 for episode no. 84\n",
            "cummulative reward is -92.02397674027209 for episode no. 85\n",
            "cummulative reward is -91.79517109824033 for episode no. 86\n",
            "cummulative reward is -91.85423698082256 for episode no. 87\n",
            "cummulative reward is -91.8518677757432 for episode no. 88\n",
            "cummulative reward is -92.01603067029887 for episode no. 89\n",
            "cummulative reward is -91.9105731761083 for episode no. 90\n",
            "cummulative reward is -91.77920274304536 for episode no. 91\n",
            "cummulative reward is -91.93834115037073 for episode no. 92\n",
            "cummulative reward is -91.99967005367701 for episode no. 93\n",
            "cummulative reward is -92.01071141357534 for episode no. 94\n",
            "cummulative reward is -91.92278255925824 for episode no. 95\n",
            "cummulative reward is -91.8402346543347 for episode no. 96\n",
            "cummulative reward is -91.94461471145041 for episode no. 97\n",
            "cummulative reward is -91.82594900407518 for episode no. 98\n",
            "cummulative reward is -91.96763373422436 for episode no. 99\n",
            "cummulative reward is -91.83214644909215 for episode no. 100\n",
            "cummulative reward is -91.93898615761039 for episode no. 101\n",
            "cummulative reward is -91.77606332759994 for episode no. 102\n",
            "cummulative reward is -91.93922650689879 for episode no. 103\n",
            "cummulative reward is -92.02728448839237 for episode no. 104\n",
            "cummulative reward is -91.85560284974054 for episode no. 105\n",
            "cummulative reward is -91.8694009364117 for episode no. 106\n",
            "cummulative reward is -92.02815674361773 for episode no. 107\n",
            "cummulative reward is -91.8791428792756 for episode no. 108\n",
            "cummulative reward is -91.98256828659214 for episode no. 109\n",
            "cummulative reward is -91.82709857790421 for episode no. 110\n",
            "cummulative reward is -91.81886675092392 for episode no. 111\n",
            "cummulative reward is -91.9589174890425 for episode no. 112\n",
            "cummulative reward is -91.91804984980263 for episode no. 113\n",
            "cummulative reward is -91.94237778009847 for episode no. 114\n",
            "cummulative reward is -91.83137398694332 for episode no. 115\n",
            "cummulative reward is -92.0655536688088 for episode no. 116\n",
            "cummulative reward is -91.98767226740406 for episode no. 117\n",
            "cummulative reward is -91.81748552092661 for episode no. 118\n",
            "cummulative reward is -91.85828157188371 for episode no. 119\n",
            "cummulative reward is -91.7933628167957 for episode no. 120\n",
            "cummulative reward is -91.94297338866939 for episode no. 121\n",
            "cummulative reward is -91.99891804538979 for episode no. 122\n",
            "cummulative reward is -92.04978762737787 for episode no. 123\n",
            "cummulative reward is -91.99367082344057 for episode no. 124\n",
            "cummulative reward is -91.8773301166948 for episode no. 125\n",
            "cummulative reward is -92.03149270669867 for episode no. 126\n",
            "cummulative reward is -92.0254314915898 for episode no. 127\n",
            "cummulative reward is -91.96867695311084 for episode no. 128\n",
            "cummulative reward is -91.86621870441982 for episode no. 129\n",
            "cummulative reward is -91.97374998972131 for episode no. 130\n",
            "cummulative reward is -91.92043082571278 for episode no. 131\n",
            "cummulative reward is -91.8460727277367 for episode no. 132\n",
            "cummulative reward is -92.04031666942562 for episode no. 133\n",
            "cummulative reward is -91.82065499961998 for episode no. 134\n",
            "cummulative reward is -92.0093887114587 for episode no. 135\n",
            "cummulative reward is -91.87015750918849 for episode no. 136\n",
            "cummulative reward is -92.01452499162406 for episode no. 137\n",
            "cummulative reward is -91.80171385671322 for episode no. 138\n",
            "cummulative reward is -92.05907994594115 for episode no. 139\n",
            "cummulative reward is -91.85917977476493 for episode no. 140\n",
            "cummulative reward is -91.84104707580991 for episode no. 141\n",
            "cummulative reward is -91.87100490190399 for episode no. 142\n",
            "cummulative reward is -91.79279306336927 for episode no. 143\n",
            "cummulative reward is -91.98394615847307 for episode no. 144\n",
            "cummulative reward is -91.96652707837833 for episode no. 145\n",
            "cummulative reward is -91.8389950604178 for episode no. 146\n",
            "cummulative reward is -91.8880681875938 for episode no. 147\n",
            "cummulative reward is -91.88986099107812 for episode no. 148\n",
            "cummulative reward is -91.96967951270442 for episode no. 149\n",
            "cummulative reward is -91.89513953286223 for episode no. 150\n",
            "cummulative reward is -91.83988726201157 for episode no. 151\n",
            "cummulative reward is -91.94206737928714 for episode no. 152\n",
            "cummulative reward is -91.89720391916732 for episode no. 153\n",
            "cummulative reward is -91.95196753476435 for episode no. 154\n",
            "cummulative reward is -91.87523884295176 for episode no. 155\n",
            "cummulative reward is -91.96501340717077 for episode no. 156\n",
            "cummulative reward is -92.03427986366054 for episode no. 157\n",
            "cummulative reward is -92.00522435099508 for episode no. 158\n",
            "cummulative reward is -91.86302019003779 for episode no. 159\n",
            "cummulative reward is -91.99042773766753 for episode no. 160\n",
            "cummulative reward is -91.9565642378293 for episode no. 161\n",
            "cummulative reward is -91.82154002840011 for episode no. 162\n",
            "cummulative reward is -91.9777356813817 for episode no. 163\n",
            "cummulative reward is -91.85796868987381 for episode no. 164\n",
            "cummulative reward is -91.83378544053994 for episode no. 165\n",
            "cummulative reward is -91.99131839450759 for episode no. 166\n",
            "cummulative reward is -92.01970439202464 for episode no. 167\n",
            "cummulative reward is -91.85729854817812 for episode no. 168\n",
            "cummulative reward is -91.94594139846352 for episode no. 169\n",
            "cummulative reward is -91.81929982096577 for episode no. 170\n",
            "cummulative reward is -91.78624631223889 for episode no. 171\n",
            "cummulative reward is -92.01936354845141 for episode no. 172\n",
            "cummulative reward is -91.88172426780997 for episode no. 173\n",
            "cummulative reward is -92.06388355380234 for episode no. 174\n",
            "cummulative reward is -91.81936155282892 for episode no. 175\n",
            "cummulative reward is -91.94898569079426 for episode no. 176\n",
            "cummulative reward is -91.96931651281193 for episode no. 177\n",
            "cummulative reward is -91.94064822047949 for episode no. 178\n",
            "cummulative reward is -91.98136073575976 for episode no. 179\n",
            "cummulative reward is -92.05109420286801 for episode no. 180\n",
            "cummulative reward is -92.03173817826124 for episode no. 181\n",
            "cummulative reward is -92.03261625596012 for episode no. 182\n",
            "cummulative reward is -91.94053644260082 for episode no. 183\n",
            "cummulative reward is -91.90972967864946 for episode no. 184\n",
            "cummulative reward is -91.86106524484542 for episode no. 185\n",
            "cummulative reward is -91.96025295120975 for episode no. 186\n",
            "cummulative reward is -91.7707915631278 for episode no. 187\n",
            "cummulative reward is -91.92184100540666 for episode no. 188\n",
            "cummulative reward is -91.90753066330217 for episode no. 189\n",
            "cummulative reward is -92.01418523668933 for episode no. 190\n",
            "cummulative reward is -91.99886872588347 for episode no. 191\n",
            "cummulative reward is -91.96810951526277 for episode no. 192\n",
            "cummulative reward is -91.90751113051859 for episode no. 193\n",
            "cummulative reward is -91.89709728389667 for episode no. 194\n",
            "cummulative reward is -91.85991565409738 for episode no. 195\n",
            "cummulative reward is -91.82343821918282 for episode no. 196\n",
            "cummulative reward is -91.82106588338502 for episode no. 197\n",
            "cummulative reward is -91.93212142695363 for episode no. 198\n",
            "cummulative reward is -92.02680806963083 for episode no. 199\n",
            "cummulative reward is -92.01721635693684 for episode no. 200\n",
            "cummulative reward is -91.94904976741721 for episode no. 201\n",
            "cummulative reward is -92.01795886169808 for episode no. 202\n",
            "cummulative reward is -92.06876025628299 for episode no. 203\n",
            "cummulative reward is -91.84329513266373 for episode no. 204\n",
            "cummulative reward is -91.98820840497501 for episode no. 205\n",
            "cummulative reward is -91.81242921350835 for episode no. 206\n",
            "cummulative reward is -91.92197461053729 for episode no. 207\n",
            "cummulative reward is -92.0307141332111 for episode no. 208\n",
            "cummulative reward is -92.08189611548248 for episode no. 209\n",
            "cummulative reward is -91.96450461214408 for episode no. 210\n",
            "cummulative reward is -91.9320243129041 for episode no. 211\n",
            "cummulative reward is -92.0199641819733 for episode no. 212\n",
            "cummulative reward is -92.07320768409409 for episode no. 213\n",
            "cummulative reward is -91.86683169325504 for episode no. 214\n",
            "cummulative reward is -92.0240377471006 for episode no. 215\n",
            "cummulative reward is -91.91569047933444 for episode no. 216\n",
            "cummulative reward is -92.02602572568382 for episode no. 217\n",
            "cummulative reward is -91.86205702057728 for episode no. 218\n",
            "cummulative reward is -91.8808129306417 for episode no. 219\n",
            "cummulative reward is -91.84994855926682 for episode no. 220\n",
            "cummulative reward is -91.80434654684116 for episode no. 221\n",
            "cummulative reward is -91.96041156925881 for episode no. 222\n",
            "cummulative reward is -91.98905285494402 for episode no. 223\n",
            "cummulative reward is -91.87331827986054 for episode no. 224\n",
            "cummulative reward is -91.88320820623389 for episode no. 225\n",
            "cummulative reward is -91.8594511152866 for episode no. 226\n",
            "cummulative reward is -91.88721642130986 for episode no. 227\n",
            "cummulative reward is -91.823214304323 for episode no. 228\n",
            "cummulative reward is -92.05454080326794 for episode no. 229\n",
            "cummulative reward is -91.86524488086192 for episode no. 230\n",
            "cummulative reward is -92.01040844627035 for episode no. 231\n",
            "cummulative reward is -92.0601829388955 for episode no. 232\n",
            "cummulative reward is -91.98102376447059 for episode no. 233\n",
            "cummulative reward is -91.98229788755998 for episode no. 234\n",
            "cummulative reward is -91.81828550458886 for episode no. 235\n",
            "cummulative reward is -92.01803106426571 for episode no. 236\n",
            "cummulative reward is -91.87954357879548 for episode no. 237\n",
            "cummulative reward is -91.83355289014676 for episode no. 238\n",
            "cummulative reward is -91.95695429489327 for episode no. 239\n",
            "cummulative reward is -92.03642692502277 for episode no. 240\n",
            "cummulative reward is -91.81500874351089 for episode no. 241\n",
            "cummulative reward is -91.96777639103433 for episode no. 242\n",
            "cummulative reward is -91.99812328869788 for episode no. 243\n",
            "cummulative reward is -91.97072735118368 for episode no. 244\n",
            "cummulative reward is -92.06040043236378 for episode no. 245\n",
            "cummulative reward is -91.95769780152477 for episode no. 246\n",
            "cummulative reward is -91.99560698439987 for episode no. 247\n",
            "cummulative reward is -91.88050881167874 for episode no. 248\n",
            "cummulative reward is -92.13506156601943 for episode no. 249\n",
            "cummulative reward is -91.81124135502614 for episode no. 250\n",
            "cummulative reward is -92.06312543068391 for episode no. 251\n",
            "cummulative reward is -91.78475349668102 for episode no. 252\n",
            "cummulative reward is -92.0325711290352 for episode no. 253\n",
            "cummulative reward is -91.87115173406589 for episode no. 254\n",
            "cummulative reward is -91.87346120822865 for episode no. 255\n",
            "cummulative reward is -91.8095783800818 for episode no. 256\n",
            "cummulative reward is -92.013687630184 for episode no. 257\n",
            "cummulative reward is -91.80431983658734 for episode no. 258\n",
            "cummulative reward is -92.03992111755845 for episode no. 259\n",
            "cummulative reward is -92.02653826982714 for episode no. 260\n",
            "cummulative reward is -91.87799308441268 for episode no. 261\n",
            "cummulative reward is -91.93699087644927 for episode no. 262\n",
            "cummulative reward is -91.90876463404857 for episode no. 263\n",
            "cummulative reward is -91.83940188967001 for episode no. 264\n",
            "cummulative reward is -92.015871338003 for episode no. 265\n",
            "cummulative reward is -91.98292475907753 for episode no. 266\n",
            "cummulative reward is -91.86059700379458 for episode no. 267\n",
            "cummulative reward is -91.87422111871032 for episode no. 268\n",
            "cummulative reward is -92.00726682467696 for episode no. 269\n",
            "cummulative reward is -91.96972119955656 for episode no. 270\n",
            "cummulative reward is -91.83389856130816 for episode no. 271\n",
            "cummulative reward is -91.92634824834144 for episode no. 272\n",
            "cummulative reward is -92.05811338165465 for episode no. 273\n",
            "cummulative reward is -92.00124848129538 for episode no. 274\n",
            "cummulative reward is -91.86785843929586 for episode no. 275\n",
            "cummulative reward is -91.90217510983348 for episode no. 276\n",
            "cummulative reward is -91.81966367860636 for episode no. 277\n",
            "cummulative reward is -92.01032045522395 for episode no. 278\n",
            "cummulative reward is -92.0331011323724 for episode no. 279\n",
            "cummulative reward is -91.7856144810406 for episode no. 280\n",
            "cummulative reward is -91.83091570149796 for episode no. 281\n",
            "cummulative reward is -91.99062019656412 for episode no. 282\n",
            "cummulative reward is -92.05293668666855 for episode no. 283\n"
          ]
        },
        {
          "output_type": "error",
          "ename": "KeyboardInterrupt",
          "evalue": "ignored",
          "traceback": [
            "\u001b[0;31m---------------------------------------------------------------------------\u001b[0m",
            "\u001b[0;31mKeyboardInterrupt\u001b[0m                         Traceback (most recent call last)",
            "\u001b[0;32m<ipython-input-57-9b2a73b19037>\u001b[0m in \u001b[0;36m<module>\u001b[0;34m()\u001b[0m\n\u001b[1;32m      6\u001b[0m \u001b[0ma2c\u001b[0m \u001b[0;34m=\u001b[0m \u001b[0mA2C\u001b[0m\u001b[0;34m(\u001b[0m\u001b[0mbipedal_env\u001b[0m\u001b[0;34m,\u001b[0m\u001b[0magent\u001b[0m\u001b[0;34m)\u001b[0m\u001b[0;34m\u001b[0m\u001b[0;34m\u001b[0m\u001b[0m\n\u001b[1;32m      7\u001b[0m \u001b[0;34m\u001b[0m\u001b[0m\n\u001b[0;32m----> 8\u001b[0;31m \u001b[0ma2c\u001b[0m\u001b[0;34m.\u001b[0m\u001b[0mtrain\u001b[0m\u001b[0;34m(\u001b[0m\u001b[0mepisodes\u001b[0m \u001b[0;34m=\u001b[0m \u001b[0mnumber_of_episodes\u001b[0m\u001b[0;34m,\u001b[0m\u001b[0mgamma\u001b[0m \u001b[0;34m=\u001b[0m \u001b[0;36m0.99\u001b[0m\u001b[0;34m,\u001b[0m \u001b[0mactor_lr\u001b[0m \u001b[0;34m=\u001b[0m \u001b[0;36m0.001\u001b[0m\u001b[0;34m,\u001b[0m \u001b[0mcritic_lr\u001b[0m \u001b[0;34m=\u001b[0m \u001b[0;36m0.001\u001b[0m\u001b[0;34m)\u001b[0m\u001b[0;34m\u001b[0m\u001b[0;34m\u001b[0m\u001b[0m\n\u001b[0m",
            "\u001b[0;32m<ipython-input-56-dc9a646612ee>\u001b[0m in \u001b[0;36mtrain\u001b[0;34m(self, episodes, gamma, actor_lr, critic_lr)\u001b[0m\n\u001b[1;32m     26\u001b[0m         \u001b[0;32mwhile\u001b[0m \u001b[0;32mnot\u001b[0m \u001b[0mdone_iter\u001b[0m\u001b[0;34m:\u001b[0m\u001b[0;34m\u001b[0m\u001b[0;34m\u001b[0m\u001b[0m\n\u001b[1;32m     27\u001b[0m \u001b[0;34m\u001b[0m\u001b[0m\n\u001b[0;32m---> 28\u001b[0;31m           \u001b[0mobs_reshaped\u001b[0m \u001b[0;34m=\u001b[0m \u001b[0mtf\u001b[0m\u001b[0;34m.\u001b[0m\u001b[0mreshape\u001b[0m\u001b[0;34m(\u001b[0m\u001b[0mhelper\u001b[0m\u001b[0;34m(\u001b[0m\u001b[0mobs\u001b[0m\u001b[0;34m)\u001b[0m\u001b[0;34m,\u001b[0m\u001b[0;34m(\u001b[0m\u001b[0;36m1\u001b[0m\u001b[0;34m,\u001b[0m\u001b[0mself\u001b[0m\u001b[0;34m.\u001b[0m\u001b[0mobervation_size\u001b[0m\u001b[0;34m)\u001b[0m\u001b[0;34m)\u001b[0m\u001b[0;34m\u001b[0m\u001b[0;34m\u001b[0m\u001b[0m\n\u001b[0m\u001b[1;32m     29\u001b[0m \u001b[0;34m\u001b[0m\u001b[0m\n\u001b[1;32m     30\u001b[0m           \u001b[0mnext_q\u001b[0m \u001b[0;34m=\u001b[0m \u001b[0mself\u001b[0m\u001b[0;34m.\u001b[0m\u001b[0mactor\u001b[0m\u001b[0;34m.\u001b[0m\u001b[0mmodel\u001b[0m\u001b[0;34m.\u001b[0m\u001b[0mpredict\u001b[0m\u001b[0;34m(\u001b[0m\u001b[0mobs_reshaped\u001b[0m\u001b[0;34m)\u001b[0m\u001b[0;34m\u001b[0m\u001b[0;34m\u001b[0m\u001b[0m\n",
            "\u001b[0;32m<ipython-input-4-a8c315f37f08>\u001b[0m in \u001b[0;36mhelper\u001b[0;34m(numpy_array)\u001b[0m\n\u001b[1;32m      1\u001b[0m \u001b[0;32mdef\u001b[0m \u001b[0mhelper\u001b[0m\u001b[0;34m(\u001b[0m\u001b[0mnumpy_array\u001b[0m\u001b[0;34m)\u001b[0m\u001b[0;34m:\u001b[0m\u001b[0;34m\u001b[0m\u001b[0;34m\u001b[0m\u001b[0m\n\u001b[0;32m----> 2\u001b[0;31m   \u001b[0marg\u001b[0m \u001b[0;34m=\u001b[0m \u001b[0mtf\u001b[0m\u001b[0;34m.\u001b[0m\u001b[0mconvert_to_tensor\u001b[0m\u001b[0;34m(\u001b[0m\u001b[0mnumpy_array\u001b[0m\u001b[0;34m,\u001b[0m \u001b[0mdtype\u001b[0m\u001b[0;34m=\u001b[0m\u001b[0mtf\u001b[0m\u001b[0;34m.\u001b[0m\u001b[0mfloat32\u001b[0m\u001b[0;34m)\u001b[0m\u001b[0;34m\u001b[0m\u001b[0;34m\u001b[0m\u001b[0m\n\u001b[0m\u001b[1;32m      3\u001b[0m   \u001b[0;32mreturn\u001b[0m \u001b[0marg\u001b[0m\u001b[0;34m\u001b[0m\u001b[0;34m\u001b[0m\u001b[0m\n",
            "\u001b[0;32m/usr/local/lib/python3.7/dist-packages/tensorflow/python/util/traceback_utils.py\u001b[0m in \u001b[0;36merror_handler\u001b[0;34m(*args, **kwargs)\u001b[0m\n\u001b[1;32m    148\u001b[0m     \u001b[0mfiltered_tb\u001b[0m \u001b[0;34m=\u001b[0m \u001b[0;32mNone\u001b[0m\u001b[0;34m\u001b[0m\u001b[0;34m\u001b[0m\u001b[0m\n\u001b[1;32m    149\u001b[0m     \u001b[0;32mtry\u001b[0m\u001b[0;34m:\u001b[0m\u001b[0;34m\u001b[0m\u001b[0;34m\u001b[0m\u001b[0m\n\u001b[0;32m--> 150\u001b[0;31m       \u001b[0;32mreturn\u001b[0m \u001b[0mfn\u001b[0m\u001b[0;34m(\u001b[0m\u001b[0;34m*\u001b[0m\u001b[0margs\u001b[0m\u001b[0;34m,\u001b[0m \u001b[0;34m**\u001b[0m\u001b[0mkwargs\u001b[0m\u001b[0;34m)\u001b[0m\u001b[0;34m\u001b[0m\u001b[0;34m\u001b[0m\u001b[0m\n\u001b[0m\u001b[1;32m    151\u001b[0m     \u001b[0;32mexcept\u001b[0m \u001b[0mException\u001b[0m \u001b[0;32mas\u001b[0m \u001b[0me\u001b[0m\u001b[0;34m:\u001b[0m\u001b[0;34m\u001b[0m\u001b[0;34m\u001b[0m\u001b[0m\n\u001b[1;32m    152\u001b[0m       \u001b[0mfiltered_tb\u001b[0m \u001b[0;34m=\u001b[0m \u001b[0m_process_traceback_frames\u001b[0m\u001b[0;34m(\u001b[0m\u001b[0me\u001b[0m\u001b[0;34m.\u001b[0m\u001b[0m__traceback__\u001b[0m\u001b[0;34m)\u001b[0m\u001b[0;34m\u001b[0m\u001b[0;34m\u001b[0m\u001b[0m\n",
            "\u001b[0;32m/usr/local/lib/python3.7/dist-packages/tensorflow/python/util/dispatch.py\u001b[0m in \u001b[0;36mop_dispatch_handler\u001b[0;34m(*args, **kwargs)\u001b[0m\n\u001b[1;32m   1080\u001b[0m       \u001b[0;31m# Fallback dispatch system (dispatch v1):\u001b[0m\u001b[0;34m\u001b[0m\u001b[0;34m\u001b[0m\u001b[0;34m\u001b[0m\u001b[0m\n\u001b[1;32m   1081\u001b[0m       \u001b[0;32mtry\u001b[0m\u001b[0;34m:\u001b[0m\u001b[0;34m\u001b[0m\u001b[0;34m\u001b[0m\u001b[0m\n\u001b[0;32m-> 1082\u001b[0;31m         \u001b[0;32mreturn\u001b[0m \u001b[0mdispatch_target\u001b[0m\u001b[0;34m(\u001b[0m\u001b[0;34m*\u001b[0m\u001b[0margs\u001b[0m\u001b[0;34m,\u001b[0m \u001b[0;34m**\u001b[0m\u001b[0mkwargs\u001b[0m\u001b[0;34m)\u001b[0m\u001b[0;34m\u001b[0m\u001b[0;34m\u001b[0m\u001b[0m\n\u001b[0m\u001b[1;32m   1083\u001b[0m       \u001b[0;32mexcept\u001b[0m \u001b[0;34m(\u001b[0m\u001b[0mTypeError\u001b[0m\u001b[0;34m,\u001b[0m \u001b[0mValueError\u001b[0m\u001b[0;34m)\u001b[0m\u001b[0;34m:\u001b[0m\u001b[0;34m\u001b[0m\u001b[0;34m\u001b[0m\u001b[0m\n\u001b[1;32m   1084\u001b[0m         \u001b[0;31m# Note: convert_to_eager_tensor currently raises a ValueError, not a\u001b[0m\u001b[0;34m\u001b[0m\u001b[0;34m\u001b[0m\u001b[0;34m\u001b[0m\u001b[0m\n",
            "\u001b[0;32m/usr/local/lib/python3.7/dist-packages/tensorflow/python/framework/ops.py\u001b[0m in \u001b[0;36mconvert_to_tensor_v2_with_dispatch\u001b[0;34m(value, dtype, dtype_hint, name)\u001b[0m\n\u001b[1;32m   1558\u001b[0m   \"\"\"\n\u001b[1;32m   1559\u001b[0m   return convert_to_tensor_v2(\n\u001b[0;32m-> 1560\u001b[0;31m       value, dtype=dtype, dtype_hint=dtype_hint, name=name)\n\u001b[0m\u001b[1;32m   1561\u001b[0m \u001b[0;34m\u001b[0m\u001b[0m\n\u001b[1;32m   1562\u001b[0m \u001b[0;34m\u001b[0m\u001b[0m\n",
            "\u001b[0;32m/usr/local/lib/python3.7/dist-packages/tensorflow/python/framework/ops.py\u001b[0m in \u001b[0;36mconvert_to_tensor_v2\u001b[0;34m(value, dtype, dtype_hint, name)\u001b[0m\n\u001b[1;32m   1568\u001b[0m       \u001b[0mname\u001b[0m\u001b[0;34m=\u001b[0m\u001b[0mname\u001b[0m\u001b[0;34m,\u001b[0m\u001b[0;34m\u001b[0m\u001b[0;34m\u001b[0m\u001b[0m\n\u001b[1;32m   1569\u001b[0m       \u001b[0mpreferred_dtype\u001b[0m\u001b[0;34m=\u001b[0m\u001b[0mdtype_hint\u001b[0m\u001b[0;34m,\u001b[0m\u001b[0;34m\u001b[0m\u001b[0;34m\u001b[0m\u001b[0m\n\u001b[0;32m-> 1570\u001b[0;31m       as_ref=False)\n\u001b[0m\u001b[1;32m   1571\u001b[0m \u001b[0;34m\u001b[0m\u001b[0m\n\u001b[1;32m   1572\u001b[0m \u001b[0;34m\u001b[0m\u001b[0m\n",
            "\u001b[0;32m/usr/local/lib/python3.7/dist-packages/tensorflow/python/profiler/trace.py\u001b[0m in \u001b[0;36mwrapped\u001b[0;34m(*args, **kwargs)\u001b[0m\n\u001b[1;32m    181\u001b[0m         \u001b[0;32mwith\u001b[0m \u001b[0mTrace\u001b[0m\u001b[0;34m(\u001b[0m\u001b[0mtrace_name\u001b[0m\u001b[0;34m,\u001b[0m \u001b[0;34m**\u001b[0m\u001b[0mtrace_kwargs\u001b[0m\u001b[0;34m)\u001b[0m\u001b[0;34m:\u001b[0m\u001b[0;34m\u001b[0m\u001b[0;34m\u001b[0m\u001b[0m\n\u001b[1;32m    182\u001b[0m           \u001b[0;32mreturn\u001b[0m \u001b[0mfunc\u001b[0m\u001b[0;34m(\u001b[0m\u001b[0;34m*\u001b[0m\u001b[0margs\u001b[0m\u001b[0;34m,\u001b[0m \u001b[0;34m**\u001b[0m\u001b[0mkwargs\u001b[0m\u001b[0;34m)\u001b[0m\u001b[0;34m\u001b[0m\u001b[0;34m\u001b[0m\u001b[0m\n\u001b[0;32m--> 183\u001b[0;31m       \u001b[0;32mreturn\u001b[0m \u001b[0mfunc\u001b[0m\u001b[0;34m(\u001b[0m\u001b[0;34m*\u001b[0m\u001b[0margs\u001b[0m\u001b[0;34m,\u001b[0m \u001b[0;34m**\u001b[0m\u001b[0mkwargs\u001b[0m\u001b[0;34m)\u001b[0m\u001b[0;34m\u001b[0m\u001b[0;34m\u001b[0m\u001b[0m\n\u001b[0m\u001b[1;32m    184\u001b[0m \u001b[0;34m\u001b[0m\u001b[0m\n\u001b[1;32m    185\u001b[0m     \u001b[0;32mreturn\u001b[0m \u001b[0mwrapped\u001b[0m\u001b[0;34m\u001b[0m\u001b[0;34m\u001b[0m\u001b[0m\n",
            "\u001b[0;32m/usr/local/lib/python3.7/dist-packages/tensorflow/python/framework/ops.py\u001b[0m in \u001b[0;36mconvert_to_tensor\u001b[0;34m(value, dtype, name, as_ref, preferred_dtype, dtype_hint, ctx, accepted_result_types)\u001b[0m\n\u001b[1;32m   1693\u001b[0m \u001b[0;34m\u001b[0m\u001b[0m\n\u001b[1;32m   1694\u001b[0m     \u001b[0;32mif\u001b[0m \u001b[0mret\u001b[0m \u001b[0;32mis\u001b[0m \u001b[0;32mNone\u001b[0m\u001b[0;34m:\u001b[0m\u001b[0;34m\u001b[0m\u001b[0;34m\u001b[0m\u001b[0m\n\u001b[0;32m-> 1695\u001b[0;31m       \u001b[0mret\u001b[0m \u001b[0;34m=\u001b[0m \u001b[0mconversion_func\u001b[0m\u001b[0;34m(\u001b[0m\u001b[0mvalue\u001b[0m\u001b[0;34m,\u001b[0m \u001b[0mdtype\u001b[0m\u001b[0;34m=\u001b[0m\u001b[0mdtype\u001b[0m\u001b[0;34m,\u001b[0m \u001b[0mname\u001b[0m\u001b[0;34m=\u001b[0m\u001b[0mname\u001b[0m\u001b[0;34m,\u001b[0m \u001b[0mas_ref\u001b[0m\u001b[0;34m=\u001b[0m\u001b[0mas_ref\u001b[0m\u001b[0;34m)\u001b[0m\u001b[0;34m\u001b[0m\u001b[0;34m\u001b[0m\u001b[0m\n\u001b[0m\u001b[1;32m   1696\u001b[0m \u001b[0;34m\u001b[0m\u001b[0m\n\u001b[1;32m   1697\u001b[0m     \u001b[0;32mif\u001b[0m \u001b[0mret\u001b[0m \u001b[0;32mis\u001b[0m \u001b[0mNotImplemented\u001b[0m\u001b[0;34m:\u001b[0m\u001b[0;34m\u001b[0m\u001b[0;34m\u001b[0m\u001b[0m\n",
            "\u001b[0;32m/usr/local/lib/python3.7/dist-packages/tensorflow/python/framework/tensor_conversion_registry.py\u001b[0m in \u001b[0;36m_default_conversion_function\u001b[0;34m(***failed resolving arguments***)\u001b[0m\n\u001b[1;32m     46\u001b[0m \u001b[0;32mdef\u001b[0m \u001b[0m_default_conversion_function\u001b[0m\u001b[0;34m(\u001b[0m\u001b[0mvalue\u001b[0m\u001b[0;34m,\u001b[0m \u001b[0mdtype\u001b[0m\u001b[0;34m,\u001b[0m \u001b[0mname\u001b[0m\u001b[0;34m,\u001b[0m \u001b[0mas_ref\u001b[0m\u001b[0;34m)\u001b[0m\u001b[0;34m:\u001b[0m\u001b[0;34m\u001b[0m\u001b[0;34m\u001b[0m\u001b[0m\n\u001b[1;32m     47\u001b[0m   \u001b[0;32mdel\u001b[0m \u001b[0mas_ref\u001b[0m  \u001b[0;31m# Unused.\u001b[0m\u001b[0;34m\u001b[0m\u001b[0;34m\u001b[0m\u001b[0m\n\u001b[0;32m---> 48\u001b[0;31m   \u001b[0;32mreturn\u001b[0m \u001b[0mconstant_op\u001b[0m\u001b[0;34m.\u001b[0m\u001b[0mconstant\u001b[0m\u001b[0;34m(\u001b[0m\u001b[0mvalue\u001b[0m\u001b[0;34m,\u001b[0m \u001b[0mdtype\u001b[0m\u001b[0;34m,\u001b[0m \u001b[0mname\u001b[0m\u001b[0;34m=\u001b[0m\u001b[0mname\u001b[0m\u001b[0;34m)\u001b[0m\u001b[0;34m\u001b[0m\u001b[0;34m\u001b[0m\u001b[0m\n\u001b[0m\u001b[1;32m     49\u001b[0m \u001b[0;34m\u001b[0m\u001b[0m\n\u001b[1;32m     50\u001b[0m \u001b[0;34m\u001b[0m\u001b[0m\n",
            "\u001b[0;32m/usr/local/lib/python3.7/dist-packages/tensorflow/python/framework/constant_op.py\u001b[0m in \u001b[0;36mconstant\u001b[0;34m(value, dtype, shape, name)\u001b[0m\n\u001b[1;32m    266\u001b[0m   \"\"\"\n\u001b[1;32m    267\u001b[0m   return _constant_impl(value, dtype, shape, name, verify_shape=False,\n\u001b[0;32m--> 268\u001b[0;31m                         allow_broadcast=True)\n\u001b[0m\u001b[1;32m    269\u001b[0m \u001b[0;34m\u001b[0m\u001b[0m\n\u001b[1;32m    270\u001b[0m \u001b[0;34m\u001b[0m\u001b[0m\n",
            "\u001b[0;32m/usr/local/lib/python3.7/dist-packages/tensorflow/python/framework/constant_op.py\u001b[0m in \u001b[0;36m_constant_impl\u001b[0;34m(value, dtype, shape, name, verify_shape, allow_broadcast)\u001b[0m\n\u001b[1;32m    277\u001b[0m       \u001b[0;32mwith\u001b[0m \u001b[0mtrace\u001b[0m\u001b[0;34m.\u001b[0m\u001b[0mTrace\u001b[0m\u001b[0;34m(\u001b[0m\u001b[0;34m\"tf.constant\"\u001b[0m\u001b[0;34m)\u001b[0m\u001b[0;34m:\u001b[0m\u001b[0;34m\u001b[0m\u001b[0;34m\u001b[0m\u001b[0m\n\u001b[1;32m    278\u001b[0m         \u001b[0;32mreturn\u001b[0m \u001b[0m_constant_eager_impl\u001b[0m\u001b[0;34m(\u001b[0m\u001b[0mctx\u001b[0m\u001b[0;34m,\u001b[0m \u001b[0mvalue\u001b[0m\u001b[0;34m,\u001b[0m \u001b[0mdtype\u001b[0m\u001b[0;34m,\u001b[0m \u001b[0mshape\u001b[0m\u001b[0;34m,\u001b[0m \u001b[0mverify_shape\u001b[0m\u001b[0;34m)\u001b[0m\u001b[0;34m\u001b[0m\u001b[0;34m\u001b[0m\u001b[0m\n\u001b[0;32m--> 279\u001b[0;31m     \u001b[0;32mreturn\u001b[0m \u001b[0m_constant_eager_impl\u001b[0m\u001b[0;34m(\u001b[0m\u001b[0mctx\u001b[0m\u001b[0;34m,\u001b[0m \u001b[0mvalue\u001b[0m\u001b[0;34m,\u001b[0m \u001b[0mdtype\u001b[0m\u001b[0;34m,\u001b[0m \u001b[0mshape\u001b[0m\u001b[0;34m,\u001b[0m \u001b[0mverify_shape\u001b[0m\u001b[0;34m)\u001b[0m\u001b[0;34m\u001b[0m\u001b[0;34m\u001b[0m\u001b[0m\n\u001b[0m\u001b[1;32m    280\u001b[0m \u001b[0;34m\u001b[0m\u001b[0m\n\u001b[1;32m    281\u001b[0m   \u001b[0mg\u001b[0m \u001b[0;34m=\u001b[0m \u001b[0mops\u001b[0m\u001b[0;34m.\u001b[0m\u001b[0mget_default_graph\u001b[0m\u001b[0;34m(\u001b[0m\u001b[0;34m)\u001b[0m\u001b[0;34m\u001b[0m\u001b[0;34m\u001b[0m\u001b[0m\n",
            "\u001b[0;32m/usr/local/lib/python3.7/dist-packages/tensorflow/python/framework/constant_op.py\u001b[0m in \u001b[0;36m_constant_eager_impl\u001b[0;34m(ctx, value, dtype, shape, verify_shape)\u001b[0m\n\u001b[1;32m    302\u001b[0m \u001b[0;32mdef\u001b[0m \u001b[0m_constant_eager_impl\u001b[0m\u001b[0;34m(\u001b[0m\u001b[0mctx\u001b[0m\u001b[0;34m,\u001b[0m \u001b[0mvalue\u001b[0m\u001b[0;34m,\u001b[0m \u001b[0mdtype\u001b[0m\u001b[0;34m,\u001b[0m \u001b[0mshape\u001b[0m\u001b[0;34m,\u001b[0m \u001b[0mverify_shape\u001b[0m\u001b[0;34m)\u001b[0m\u001b[0;34m:\u001b[0m\u001b[0;34m\u001b[0m\u001b[0;34m\u001b[0m\u001b[0m\n\u001b[1;32m    303\u001b[0m   \u001b[0;34m\"\"\"Creates a constant on the current device.\"\"\"\u001b[0m\u001b[0;34m\u001b[0m\u001b[0;34m\u001b[0m\u001b[0m\n\u001b[0;32m--> 304\u001b[0;31m   \u001b[0mt\u001b[0m \u001b[0;34m=\u001b[0m \u001b[0mconvert_to_eager_tensor\u001b[0m\u001b[0;34m(\u001b[0m\u001b[0mvalue\u001b[0m\u001b[0;34m,\u001b[0m \u001b[0mctx\u001b[0m\u001b[0;34m,\u001b[0m \u001b[0mdtype\u001b[0m\u001b[0;34m)\u001b[0m\u001b[0;34m\u001b[0m\u001b[0;34m\u001b[0m\u001b[0m\n\u001b[0m\u001b[1;32m    305\u001b[0m   \u001b[0;32mif\u001b[0m \u001b[0mshape\u001b[0m \u001b[0;32mis\u001b[0m \u001b[0;32mNone\u001b[0m\u001b[0;34m:\u001b[0m\u001b[0;34m\u001b[0m\u001b[0;34m\u001b[0m\u001b[0m\n\u001b[1;32m    306\u001b[0m     \u001b[0;32mreturn\u001b[0m \u001b[0mt\u001b[0m\u001b[0;34m\u001b[0m\u001b[0;34m\u001b[0m\u001b[0m\n",
            "\u001b[0;32m/usr/local/lib/python3.7/dist-packages/tensorflow/python/framework/constant_op.py\u001b[0m in \u001b[0;36mconvert_to_eager_tensor\u001b[0;34m(value, ctx, dtype)\u001b[0m\n\u001b[1;32m    100\u001b[0m       \u001b[0mdtype\u001b[0m \u001b[0;34m=\u001b[0m \u001b[0mdtypes\u001b[0m\u001b[0;34m.\u001b[0m\u001b[0mas_dtype\u001b[0m\u001b[0;34m(\u001b[0m\u001b[0mdtype\u001b[0m\u001b[0;34m)\u001b[0m\u001b[0;34m.\u001b[0m\u001b[0mas_datatype_enum\u001b[0m\u001b[0;34m\u001b[0m\u001b[0;34m\u001b[0m\u001b[0m\n\u001b[1;32m    101\u001b[0m   \u001b[0mctx\u001b[0m\u001b[0;34m.\u001b[0m\u001b[0mensure_initialized\u001b[0m\u001b[0;34m(\u001b[0m\u001b[0;34m)\u001b[0m\u001b[0;34m\u001b[0m\u001b[0;34m\u001b[0m\u001b[0m\n\u001b[0;32m--> 102\u001b[0;31m   \u001b[0;32mreturn\u001b[0m \u001b[0mops\u001b[0m\u001b[0;34m.\u001b[0m\u001b[0mEagerTensor\u001b[0m\u001b[0;34m(\u001b[0m\u001b[0mvalue\u001b[0m\u001b[0;34m,\u001b[0m \u001b[0mctx\u001b[0m\u001b[0;34m.\u001b[0m\u001b[0mdevice_name\u001b[0m\u001b[0;34m,\u001b[0m \u001b[0mdtype\u001b[0m\u001b[0;34m)\u001b[0m\u001b[0;34m\u001b[0m\u001b[0;34m\u001b[0m\u001b[0m\n\u001b[0m\u001b[1;32m    103\u001b[0m \u001b[0;34m\u001b[0m\u001b[0m\n\u001b[1;32m    104\u001b[0m \u001b[0;34m\u001b[0m\u001b[0m\n",
            "\u001b[0;31mKeyboardInterrupt\u001b[0m: "
          ]
        }
      ],
      "source": [
        "\n",
        "agent = Agent(bipedal_env)\n",
        "\n",
        "number_of_episodes = 5000\n",
        "\n",
        "a2c = A2C(bipedal_env,agent)\n",
        "\n",
        "a2c.train(episodes = number_of_episodes,gamma = 0.99, actor_lr = 0.001, critic_lr = 0.001)"
      ]
    },
    {
      "cell_type": "code",
      "execution_count": 58,
      "metadata": {
        "colab": {
          "base_uri": "https://localhost:8080/",
          "height": 295
        },
        "id": "PldjzPCi5yE4",
        "outputId": "bce8ef51-6773-42f6-97f5-89a2648d3893"
      },
      "outputs": [
        {
          "output_type": "display_data",
          "data": {
            "text/plain": [
              "<Figure size 432x288 with 1 Axes>"
            ],
            "image/png": "[encoded data removed]"
          },
          "metadata": {
            "needs_background": "light"
          }
        }
      ],
      "source": [
        "#Reward at each iteration DQ-Learning\n",
        "plt.plot(a2c.reward_per_episode) \n",
        "plt.xticks(range(0,len(a2c.reward_per_episode)+1, 100)) \n",
        "\n",
        "plt.ylabel('rewards')\n",
        "plt.xlabel('episodes') \n",
        "plt.title(\"Reward at each episodes A2C\") \n",
        "plt.show()"
      ]
    },
    {
      "cell_type": "code",
      "execution_count": 63,
      "metadata": {
        "colab": {
          "base_uri": "https://localhost:8080/",
          "height": 295
        },
        "id": "7UJiKry155g0",
        "outputId": "99ff676f-3f8d-4e23-80e5-236ed6989c4c"
      },
      "outputs": [
        {
          "output_type": "stream",
          "name": "stdout",
          "text": [
            ""
          ]
        },
        {
          "output_type": "display_data",
          "data": {
            "text/plain": [
              "<Figure size 432x288 with 1 Axes>"
            ],
            "image/png": "[encoded data removed]"
          },
          "metadata": {
            "needs_background": "light"
          }
        }
      ],
      "source": [
        "#evaluate Q learning\n",
        "gamma = 0.99\n",
        "\n",
        "reward_A2Clearning_10ep = []\n",
        "for i in np.arange(10):\n",
        "    obs = a2c.env.reset()\n",
        "    done_iter = False\n",
        "    print(i,end=\"\\r\")\n",
        "    cumm_reward=0\n",
        "    step_no = 0\n",
        "\n",
        "    while not done_iter:\n",
        "      obs_reshaped = tf.reshape(helper(obs),(1,24))\n",
        "      next_q = a2c.actor.model.predict(obs_reshaped)\n",
        "      action_dist = tfp.distributions.Categorical(probs=next_q)\n",
        "      action = action_dist.sample(sample_shape=4)\n",
        "      action_reshaped = tf.reshape(action,(1,4))\n",
        "      #print(\"action_reshaped {}\".format(action_reshaped))\n",
        "      action_numpy = tf.gather(action_reshaped,0).numpy()\n",
        "      obs_next, reward, done_iter, info = a2c.env.step(action_numpy)\n",
        "      #action = int(a2c.greedy_act_max(obs.reshape(1,4)))\n",
        "      cumm_reward += reward\n",
        "      obs = obs_next\n",
        "      # done_iter = done\n",
        "      step_no += 1\n",
        "    reward_A2Clearning_10ep.append(cumm_reward)\n",
        "\n",
        "plt.plot(reward_A2Clearning_10ep,color='magenta') \n",
        "plt.xticks(range(0,len(reward_A2Clearning_10ep)+1, 1)) \n",
        "\n",
        "plt.ylabel('rewards')\n",
        "plt.xlabel('iteration') \n",
        "plt.title(\"Reward Greedy 10 Episodes of trained A2C-Learning \") \n",
        "plt.show()"
      ]
    },
    {
      "cell_type": "code",
      "source": [
        ""
      ],
      "metadata": {
        "id": "7VYlIO0e7ejk"
      },
      "execution_count": null,
      "outputs": []
    }
  ],
  "metadata": {
    "colab": {
      "collapsed_sections": [],
      "name": "assignment3_BipedalWalker.ipynb",
      "provenance": []
    },
    "kernelspec": {
      "display_name": "Python 3",
      "name": "python3"
    },
    "language_info": {
      "name": "python"
    },
    "accelerator": "GPU"
  },
  "nbformat": 4,
  "nbformat_minor": 0
}