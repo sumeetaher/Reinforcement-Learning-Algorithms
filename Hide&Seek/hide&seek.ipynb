{
  "nbformat": 4,
  "nbformat_minor": 0,
  "metadata": {
    "colab": {
      "name": "sumeetmi_suraj_final_project_hide&seek.ipynb",
      "provenance": [],
      "collapsed_sections": []
    },
    "kernelspec": {
      "name": "python3",
      "display_name": "Python 3"
    },
    "language_info": {
      "name": "python"
    }
  },
  "cells": [
    {
      "cell_type": "markdown",
      "source": [
        "Connect with your drive as we will need to clone the repository"
      ],
      "metadata": {
        "id": "siW6owPsuIxM"
      }
    },
    {
      "cell_type": "code",
      "execution_count": 1,
      "metadata": {
        "colab": {
          "base_uri": "https://localhost:8080/"
        },
        "id": "vwo9J-SKHzDa",
        "outputId": "59e8eb8b-3ff0-491d-98d7-215fff9c4d34"
      },
      "outputs": [
        {
          "output_type": "stream",
          "name": "stdout",
          "text": [
            "Drive already mounted at /content/drive; to attempt to forcibly remount, call drive.mount(\"/content/drive\", force_remount=True).\n"
          ]
        }
      ],
      "source": [
        "from google.colab import drive\n",
        "drive.mount('/content/drive')"
      ]
    },
    {
      "cell_type": "code",
      "source": [
        "%cd /content/drive/MyDrive/GitHub/"
      ],
      "metadata": {
        "colab": {
          "base_uri": "https://localhost:8080/"
        },
        "id": "7o5oP3WTH-w_",
        "outputId": "f237fd72-904e-41d5-8bfa-f5128a962447"
      },
      "execution_count": 2,
      "outputs": [
        {
          "output_type": "stream",
          "name": "stdout",
          "text": [
            "/content/drive/MyDrive/GitHub\n"
          ]
        }
      ]
    },
    {
      "cell_type": "code",
      "source": [
        "!git clone https://github.com/openai/mujoco-worldgen.git"
      ],
      "metadata": {
        "id": "PVwQEGnMJvO5"
      },
      "execution_count": 8,
      "outputs": []
    },
    {
      "cell_type": "markdown",
      "source": [
        "Install all the dependancies for the env"
      ],
      "metadata": {
        "id": "8gJbLHEWuP9C"
      }
    },
    {
      "cell_type": "code",
      "source": [
        "!pip3 install -U 'mujoco-py<2.2,>=2.1'\n",
        "!apt-get install -y \\\n",
        "    libgl1-mesa-dev \\\n",
        "    libgl1-mesa-glx \\\n",
        "    libglew-dev \\\n",
        "    libosmesa6-dev \\\n",
        "    software-properties-common\n",
        "\n",
        "!apt-get install -y patchelf\n",
        "!pip install free-mujoco-py\n",
        "\n",
        "!pip install -r mujoco-worldgen/requirements.txt\n",
        "!pip install -e mujoco-worldgen/\n",
        "!pip install -e multi-agent-emergence-environments/"
      ],
      "metadata": {
        "colab": {
          "base_uri": "https://localhost:8080/",
          "height": 1000
        },
        "id": "LpcnphisdWDA",
        "outputId": "f344b4f4-e174-48c5-f08a-3c1df909a89d"
      },
      "execution_count": 3,
      "outputs": [
        {
          "output_type": "stream",
          "name": "stdout",
          "text": [
            "Collecting mujoco-py<2.2,>=2.1\n",
            "  Downloading mujoco_py-2.1.2.14-py3-none-any.whl (2.4 MB)\n",
            "\u001b[K     |████████████████████████████████| 2.4 MB 5.2 MB/s \n",
            "\u001b[?25hCollecting glfw>=1.4.0\n",
            "  Downloading glfw-2.5.3-py2.py27.py3.py30.py31.py32.py33.py34.py35.py36.py37.py38-none-manylinux2014_x86_64.whl (206 kB)\n",
            "\u001b[K     |████████████████████████████████| 206 kB 49.3 MB/s \n",
            "\u001b[?25hRequirement already satisfied: numpy>=1.11 in /usr/local/lib/python3.7/dist-packages (from mujoco-py<2.2,>=2.1) (1.21.6)\n",
            "Requirement already satisfied: cffi>=1.10 in /usr/local/lib/python3.7/dist-packages (from mujoco-py<2.2,>=2.1) (1.15.0)\n",
            "Collecting fasteners~=0.15\n",
            "  Downloading fasteners-0.17.3-py3-none-any.whl (18 kB)\n",
            "Requirement already satisfied: Cython>=0.27.2 in /usr/local/lib/python3.7/dist-packages (from mujoco-py<2.2,>=2.1) (0.29.28)\n",
            "Requirement already satisfied: imageio>=2.1.2 in /usr/local/lib/python3.7/dist-packages (from mujoco-py<2.2,>=2.1) (2.4.1)\n",
            "Requirement already satisfied: pycparser in /usr/local/lib/python3.7/dist-packages (from cffi>=1.10->mujoco-py<2.2,>=2.1) (2.21)\n",
            "Requirement already satisfied: pillow in /usr/local/lib/python3.7/dist-packages (from imageio>=2.1.2->mujoco-py<2.2,>=2.1) (7.1.2)\n",
            "Installing collected packages: glfw, fasteners, mujoco-py\n",
            "Successfully installed fasteners-0.17.3 glfw-2.5.3 mujoco-py-2.1.2.14\n",
            "Reading package lists... Done\n",
            "Building dependency tree       \n",
            "Reading state information... Done\n",
            "libgl1-mesa-dev is already the newest version (20.0.8-0ubuntu1~18.04.1).\n",
            "libgl1-mesa-dev set to manually installed.\n",
            "software-properties-common is already the newest version (0.96.24.32.18).\n",
            "The following packages were automatically installed and are no longer required:\n",
            "  libnvidia-common-460 nsight-compute-2020.2.0\n",
            "Use 'apt autoremove' to remove them.\n",
            "Suggested packages:\n",
            "  glew-utils\n",
            "The following NEW packages will be installed:\n",
            "  libgl1-mesa-glx libglew-dev libglew2.0 libosmesa6 libosmesa6-dev\n",
            "0 upgraded, 5 newly installed, 0 to remove and 42 not upgraded.\n",
            "Need to get 2,916 kB of archives.\n",
            "After this operation, 12.6 MB of additional disk space will be used.\n",
            "Get:1 http://archive.ubuntu.com/ubuntu bionic-updates/main amd64 libgl1-mesa-glx amd64 20.0.8-0ubuntu1~18.04.1 [5,532 B]\n",
            "Get:2 http://archive.ubuntu.com/ubuntu bionic/universe amd64 libglew2.0 amd64 2.0.0-5 [140 kB]\n",
            "Get:3 http://archive.ubuntu.com/ubuntu bionic/universe amd64 libglew-dev amd64 2.0.0-5 [120 kB]\n",
            "Get:4 http://archive.ubuntu.com/ubuntu bionic-updates/main amd64 libosmesa6 amd64 20.0.8-0ubuntu1~18.04.1 [2,641 kB]\n",
            "Get:5 http://archive.ubuntu.com/ubuntu bionic-updates/main amd64 libosmesa6-dev amd64 20.0.8-0ubuntu1~18.04.1 [8,828 B]\n",
            "Fetched 2,916 kB in 1s (2,818 kB/s)\n",
            "Selecting previously unselected package libgl1-mesa-glx:amd64.\n",
            "(Reading database ... 155203 files and directories currently installed.)\n",
            "Preparing to unpack .../libgl1-mesa-glx_20.0.8-0ubuntu1~18.04.1_amd64.deb ...\n",
            "Unpacking libgl1-mesa-glx:amd64 (20.0.8-0ubuntu1~18.04.1) ...\n",
            "Selecting previously unselected package libglew2.0:amd64.\n",
            "Preparing to unpack .../libglew2.0_2.0.0-5_amd64.deb ...\n",
            "Unpacking libglew2.0:amd64 (2.0.0-5) ...\n",
            "Selecting previously unselected package libglew-dev:amd64.\n",
            "Preparing to unpack .../libglew-dev_2.0.0-5_amd64.deb ...\n",
            "Unpacking libglew-dev:amd64 (2.0.0-5) ...\n",
            "Selecting previously unselected package libosmesa6:amd64.\n",
            "Preparing to unpack .../libosmesa6_20.0.8-0ubuntu1~18.04.1_amd64.deb ...\n",
            "Unpacking libosmesa6:amd64 (20.0.8-0ubuntu1~18.04.1) ...\n",
            "Selecting previously unselected package libosmesa6-dev:amd64.\n",
            "Preparing to unpack .../libosmesa6-dev_20.0.8-0ubuntu1~18.04.1_amd64.deb ...\n",
            "Unpacking libosmesa6-dev:amd64 (20.0.8-0ubuntu1~18.04.1) ...\n",
            "Setting up libosmesa6:amd64 (20.0.8-0ubuntu1~18.04.1) ...\n",
            "Setting up libgl1-mesa-glx:amd64 (20.0.8-0ubuntu1~18.04.1) ...\n",
            "Setting up libglew2.0:amd64 (2.0.0-5) ...\n",
            "Setting up libglew-dev:amd64 (2.0.0-5) ...\n",
            "Setting up libosmesa6-dev:amd64 (20.0.8-0ubuntu1~18.04.1) ...\n",
            "Processing triggers for libc-bin (2.27-3ubuntu1.3) ...\n",
            "/sbin/ldconfig.real: /usr/local/lib/python3.7/dist-packages/ideep4py/lib/libmkldnn.so.0 is not a symbolic link\n",
            "\n",
            "Reading package lists... Done\n",
            "Building dependency tree       \n",
            "Reading state information... Done\n",
            "The following packages were automatically installed and are no longer required:\n",
            "  libnvidia-common-460 nsight-compute-2020.2.0\n",
            "Use 'apt autoremove' to remove them.\n",
            "The following NEW packages will be installed:\n",
            "  patchelf\n",
            "0 upgraded, 1 newly installed, 0 to remove and 42 not upgraded.\n",
            "Need to get 46.5 kB of archives.\n",
            "After this operation, 130 kB of additional disk space will be used.\n",
            "Get:1 http://archive.ubuntu.com/ubuntu bionic/universe amd64 patchelf amd64 0.9-1 [46.5 kB]\n",
            "Fetched 46.5 kB in 0s (123 kB/s)\n",
            "Selecting previously unselected package patchelf.\n",
            "(Reading database ... 155241 files and directories currently installed.)\n",
            "Preparing to unpack .../patchelf_0.9-1_amd64.deb ...\n",
            "Unpacking patchelf (0.9-1) ...\n",
            "Setting up patchelf (0.9-1) ...\n",
            "Processing triggers for man-db (2.8.3-2ubuntu0.1) ...\n",
            "Collecting free-mujoco-py\n",
            "  Downloading free_mujoco_py-2.1.6-py3-none-any.whl (14.1 MB)\n",
            "\u001b[K     |████████████████████████████████| 14.1 MB 4.6 MB/s \n",
            "\u001b[?25hRequirement already satisfied: cffi<2.0.0,>=1.15.0 in /usr/local/lib/python3.7/dist-packages (from free-mujoco-py) (1.15.0)\n",
            "Collecting glfw<2.0.0,>=1.4.0\n",
            "  Downloading glfw-1.12.0-py2.py27.py3.py30.py31.py32.py33.py34.py35.py36.py37.py38-none-manylinux2014_x86_64.whl (203 kB)\n",
            "\u001b[K     |████████████████████████████████| 203 kB 58.5 MB/s \n",
            "\u001b[?25hCollecting imageio<3.0.0,>=2.9.0\n",
            "  Downloading imageio-2.19.0-py3-none-any.whl (3.4 MB)\n",
            "\u001b[K     |████████████████████████████████| 3.4 MB 32.6 MB/s \n",
            "\u001b[?25hRequirement already satisfied: numpy<2.0.0,>=1.21.3 in /usr/local/lib/python3.7/dist-packages (from free-mujoco-py) (1.21.6)\n",
            "Requirement already satisfied: Cython<0.30.0,>=0.29.24 in /usr/local/lib/python3.7/dist-packages (from free-mujoco-py) (0.29.28)\n",
            "Collecting fasteners==0.15\n",
            "  Downloading fasteners-0.15-py2.py3-none-any.whl (23 kB)\n",
            "Requirement already satisfied: six in /usr/local/lib/python3.7/dist-packages (from fasteners==0.15->free-mujoco-py) (1.15.0)\n",
            "Collecting monotonic>=0.1\n",
            "  Downloading monotonic-1.6-py2.py3-none-any.whl (8.2 kB)\n",
            "Requirement already satisfied: pycparser in /usr/local/lib/python3.7/dist-packages (from cffi<2.0.0,>=1.15.0->free-mujoco-py) (2.21)\n",
            "Collecting pillow>=8.3.2\n",
            "  Downloading Pillow-9.1.0-cp37-cp37m-manylinux_2_17_x86_64.manylinux2014_x86_64.whl (4.3 MB)\n",
            "\u001b[K     |████████████████████████████████| 4.3 MB 41.3 MB/s \n",
            "\u001b[?25hInstalling collected packages: pillow, monotonic, imageio, glfw, fasteners, free-mujoco-py\n",
            "  Attempting uninstall: pillow\n",
            "    Found existing installation: Pillow 7.1.2\n",
            "    Uninstalling Pillow-7.1.2:\n",
            "      Successfully uninstalled Pillow-7.1.2\n",
            "  Attempting uninstall: imageio\n",
            "    Found existing installation: imageio 2.4.1\n",
            "    Uninstalling imageio-2.4.1:\n",
            "      Successfully uninstalled imageio-2.4.1\n",
            "  Attempting uninstall: glfw\n",
            "    Found existing installation: glfw 2.5.3\n",
            "    Uninstalling glfw-2.5.3:\n",
            "      Successfully uninstalled glfw-2.5.3\n",
            "  Attempting uninstall: fasteners\n",
            "    Found existing installation: fasteners 0.17.3\n",
            "    Uninstalling fasteners-0.17.3:\n",
            "      Successfully uninstalled fasteners-0.17.3\n",
            "\u001b[31mERROR: pip's dependency resolver does not currently take into account all the packages that are installed. This behaviour is the source of the following dependency conflicts.\n",
            "albumentations 0.1.12 requires imgaug<0.2.7,>=0.2.5, but you have imgaug 0.2.9 which is incompatible.\u001b[0m\n",
            "Successfully installed fasteners-0.15 free-mujoco-py-2.1.6 glfw-1.12.0 imageio-2.19.0 monotonic-1.6 pillow-9.1.0\n"
          ]
        },
        {
          "output_type": "display_data",
          "data": {
            "application/vnd.colab-display-data+json": {
              "pip_warning": {
                "packages": [
                  "PIL"
                ]
              }
            }
          },
          "metadata": {}
        },
        {
          "output_type": "stream",
          "name": "stdout",
          "text": [
            "Collecting click==7.0\n",
            "  Downloading Click-7.0-py2.py3-none-any.whl (81 kB)\n",
            "\u001b[?25l\r\u001b[K     |████                            | 10 kB 26.8 MB/s eta 0:00:01\r\u001b[K     |████████                        | 20 kB 13.7 MB/s eta 0:00:01\r\u001b[K     |████████████                    | 30 kB 10.1 MB/s eta 0:00:01\r\u001b[K     |████████████████▏               | 40 kB 8.8 MB/s eta 0:00:01\r\u001b[K     |████████████████████▏           | 51 kB 4.3 MB/s eta 0:00:01\r\u001b[K     |████████████████████████▏       | 61 kB 5.1 MB/s eta 0:00:01\r\u001b[K     |████████████████████████████▏   | 71 kB 5.6 MB/s eta 0:00:01\r\u001b[K     |████████████████████████████████| 81 kB 3.9 MB/s \n",
            "\u001b[?25hCollecting xmltodict==0.12.0\n",
            "  Downloading xmltodict-0.12.0-py2.py3-none-any.whl (9.2 kB)\n",
            "Collecting scipy==1.3.1\n",
            "  Downloading scipy-1.3.1-cp37-cp37m-manylinux1_x86_64.whl (25.2 MB)\n",
            "\u001b[K     |████████████████████████████████| 25.2 MB 1.6 MB/s \n",
            "\u001b[?25hCollecting gym==0.10.8\n",
            "  Downloading gym-0.10.8.tar.gz (1.5 MB)\n",
            "\u001b[K     |████████████████████████████████| 1.5 MB 42.9 MB/s \n",
            "\u001b[?25hCollecting jsonnet==0.11.2\n",
            "  Downloading jsonnet-0.11.2.tar.gz (127 kB)\n",
            "\u001b[K     |████████████████████████████████| 127 kB 61.6 MB/s \n",
            "\u001b[?25hCollecting numpy-stl==2.10.1\n",
            "  Downloading numpy-stl-2.10.1.tar.gz (483 kB)\n",
            "\u001b[K     |████████████████████████████████| 483 kB 56.0 MB/s \n",
            "\u001b[?25hCollecting mujoco-py<1.50.2,>=1.50.1\n",
            "  Downloading mujoco-py-1.50.1.68.tar.gz (120 kB)\n",
            "\u001b[K     |████████████████████████████████| 120 kB 51.0 MB/s \n",
            "\u001b[?25hRequirement already satisfied: numpy>=1.13.3 in /usr/local/lib/python3.7/dist-packages (from scipy==1.3.1->-r mujoco-worldgen/requirements.txt (line 3)) (1.21.6)\n",
            "Requirement already satisfied: requests>=2.0 in /usr/local/lib/python3.7/dist-packages (from gym==0.10.8->-r mujoco-worldgen/requirements.txt (line 4)) (2.23.0)\n",
            "Requirement already satisfied: six in /usr/local/lib/python3.7/dist-packages (from gym==0.10.8->-r mujoco-worldgen/requirements.txt (line 4)) (1.15.0)\n",
            "Requirement already satisfied: pyglet>=1.2.0 in /usr/local/lib/python3.7/dist-packages (from gym==0.10.8->-r mujoco-worldgen/requirements.txt (line 4)) (1.5.0)\n",
            "Requirement already satisfied: python-utils>=1.6.2 in /usr/local/lib/python3.7/dist-packages (from numpy-stl==2.10.1->-r mujoco-worldgen/requirements.txt (line 6)) (3.1.0)\n",
            "Requirement already satisfied: glfw>=1.4.0 in /usr/local/lib/python3.7/dist-packages (from mujoco-py<1.50.2,>=1.50.1->-r mujoco-worldgen/requirements.txt (line 7)) (1.12.0)\n",
            "Requirement already satisfied: Cython>=0.27.2 in /usr/local/lib/python3.7/dist-packages (from mujoco-py<1.50.2,>=1.50.1->-r mujoco-worldgen/requirements.txt (line 7)) (0.29.28)\n",
            "Requirement already satisfied: imageio>=2.1.2 in /usr/local/lib/python3.7/dist-packages (from mujoco-py<1.50.2,>=1.50.1->-r mujoco-worldgen/requirements.txt (line 7)) (2.19.0)\n",
            "Requirement already satisfied: cffi>=1.10 in /usr/local/lib/python3.7/dist-packages (from mujoco-py<1.50.2,>=1.50.1->-r mujoco-worldgen/requirements.txt (line 7)) (1.15.0)\n",
            "Collecting lockfile>=0.12.2\n",
            "  Downloading lockfile-0.12.2-py2.py3-none-any.whl (13 kB)\n",
            "Requirement already satisfied: pycparser in /usr/local/lib/python3.7/dist-packages (from cffi>=1.10->mujoco-py<1.50.2,>=1.50.1->-r mujoco-worldgen/requirements.txt (line 7)) (2.21)\n",
            "Requirement already satisfied: pillow>=8.3.2 in /usr/local/lib/python3.7/dist-packages (from imageio>=2.1.2->mujoco-py<1.50.2,>=1.50.1->-r mujoco-worldgen/requirements.txt (line 7)) (9.1.0)\n",
            "Requirement already satisfied: future in /usr/local/lib/python3.7/dist-packages (from pyglet>=1.2.0->gym==0.10.8->-r mujoco-worldgen/requirements.txt (line 4)) (0.16.0)\n",
            "Requirement already satisfied: urllib3!=1.25.0,!=1.25.1,<1.26,>=1.21.1 in /usr/local/lib/python3.7/dist-packages (from requests>=2.0->gym==0.10.8->-r mujoco-worldgen/requirements.txt (line 4)) (1.24.3)\n",
            "Requirement already satisfied: chardet<4,>=3.0.2 in /usr/local/lib/python3.7/dist-packages (from requests>=2.0->gym==0.10.8->-r mujoco-worldgen/requirements.txt (line 4)) (3.0.4)\n",
            "Requirement already satisfied: certifi>=2017.4.17 in /usr/local/lib/python3.7/dist-packages (from requests>=2.0->gym==0.10.8->-r mujoco-worldgen/requirements.txt (line 4)) (2021.10.8)\n",
            "Requirement already satisfied: idna<3,>=2.5 in /usr/local/lib/python3.7/dist-packages (from requests>=2.0->gym==0.10.8->-r mujoco-worldgen/requirements.txt (line 4)) (2.10)\n",
            "Building wheels for collected packages: gym, jsonnet, numpy-stl, mujoco-py\n",
            "  Building wheel for gym (setup.py) ... \u001b[?25l\u001b[?25hdone\n",
            "  Created wheel for gym: filename=gym-0.10.8-py3-none-any.whl size=1586965 sha256=aad83339f359f574e03ab3181351d66665f387116b5db252ddba3280e3db7b9a\n",
            "  Stored in directory: /root/.cache/pip/wheels/c1/6f/02/d1cbfb00dae501539a2aa5c2bfb5ddc8018a0041fb92926315\n",
            "  Building wheel for jsonnet (setup.py) ... \u001b[?25l\u001b[?25hdone\n",
            "  Created wheel for jsonnet: filename=jsonnet-0.11.2-cp37-cp37m-linux_x86_64.whl size=2896583 sha256=90cfc8ea086d0e58c8eb4633e4466c64b68cb22ab9823144633373fb17f35353\n",
            "  Stored in directory: /root/.cache/pip/wheels/0c/a2/eb/17f92220a4d9ad6a8ffb90299a0fce2370c76ce864d4df74c2\n",
            "  Building wheel for numpy-stl (setup.py) ... \u001b[?25l\u001b[?25hdone\n",
            "  Created wheel for numpy-stl: filename=numpy_stl-2.10.1-cp37-cp37m-linux_x86_64.whl size=135390 sha256=bb1130ecde0fde00c35a812faf781760de129ba1d5e09016f1a7f63c1d9835fb\n",
            "  Stored in directory: /root/.cache/pip/wheels/65/a0/e3/0f837a9b6727029a1a00ed58b39c7d5b67a6397e322879c816\n",
            "  Building wheel for mujoco-py (setup.py) ... \u001b[?25lerror\n",
            "\u001b[31m  ERROR: Failed building wheel for mujoco-py\u001b[0m\n",
            "\u001b[?25h  Running setup.py clean for mujoco-py\n",
            "Successfully built gym jsonnet numpy-stl\n",
            "Failed to build mujoco-py\n",
            "Installing collected packages: scipy, lockfile, xmltodict, numpy-stl, mujoco-py, jsonnet, gym, click\n",
            "  Attempting uninstall: scipy\n",
            "    Found existing installation: scipy 1.4.1\n",
            "    Uninstalling scipy-1.4.1:\n",
            "      Successfully uninstalled scipy-1.4.1\n",
            "  Attempting uninstall: mujoco-py\n",
            "    Found existing installation: mujoco-py 2.1.2.14\n",
            "    Uninstalling mujoco-py-2.1.2.14:\n",
            "      Successfully uninstalled mujoco-py-2.1.2.14\n",
            "    Running setup.py install for mujoco-py ... \u001b[?25l\u001b[?25herror\n",
            "  Rolling back uninstall of mujoco-py\n",
            "  Moving to /usr/local/lib/python3.7/dist-packages/mujoco_py-2.1.2.14.dist-info/\n",
            "   from /usr/local/lib/python3.7/dist-packages/~ujoco_py-2.1.2.14.dist-info\n",
            "  Moving to /usr/local/lib/python3.7/dist-packages/mujoco_py/__init__.py\n",
            "   from /tmp/pip-uninstall-62bz6wzk/__init__.py\n",
            "  Moving to /usr/local/lib/python3.7/dist-packages/mujoco_py/__pycache__/\n",
            "   from /usr/local/lib/python3.7/dist-packages/mujoco_py/~_pycache__\n",
            "  Moving to /usr/local/lib/python3.7/dist-packages/mujoco_py/builder.py\n",
            "   from /tmp/pip-uninstall-62bz6wzk/builder.py\n",
            "  Moving to /usr/local/lib/python3.7/dist-packages/mujoco_py/cymj.c\n",
            "   from /tmp/pip-uninstall-62bz6wzk/cymj.c\n",
            "  Moving to /usr/local/lib/python3.7/dist-packages/mujoco_py/cymj.pyx\n",
            "   from /tmp/pip-uninstall-62bz6wzk/cymj.pyx\n",
            "  Moving to /usr/local/lib/python3.7/dist-packages/mujoco_py/generated/__init__.py\n",
            "   from /tmp/pip-uninstall-62bz6wzk/generated/__init__.py\n",
            "  Moving to /usr/local/lib/python3.7/dist-packages/mujoco_py/generated/__pycache__/\n",
            "   from /usr/local/lib/python3.7/dist-packages/mujoco_py/generated/~_pycache__\n",
            "  Moving to /usr/local/lib/python3.7/dist-packages/mujoco_py/generated/const.py\n",
            "   from /tmp/pip-uninstall-62bz6wzk/generated/const.py\n",
            "  Moving to /usr/local/lib/python3.7/dist-packages/mujoco_py/generated/cymj_2.0.2.8_37_macextensionbuilder_37.so\n",
            "   from /tmp/pip-uninstall-62bz6wzk/generated/cymj_2.0.2.8_37_macextensionbuilder_37.so\n",
            "  Moving to /usr/local/lib/python3.7/dist-packages/mujoco_py/generated/cymj_2.1.2.14_37_macextensionbuilder_37.so\n",
            "   from /tmp/pip-uninstall-62bz6wzk/generated/cymj_2.1.2.14_37_macextensionbuilder_37.so\n",
            "  Moving to /usr/local/lib/python3.7/dist-packages/mujoco_py/generated/wrappers.pxi\n",
            "   from /tmp/pip-uninstall-62bz6wzk/generated/wrappers.pxi\n",
            "  Moving to /usr/local/lib/python3.7/dist-packages/mujoco_py/gl/\n",
            "   from /usr/local/lib/python3.7/dist-packages/mujoco_py/~l\n",
            "  Moving to /usr/local/lib/python3.7/dist-packages/mujoco_py/mjbatchrenderer.pyx\n",
            "   from /tmp/pip-uninstall-62bz6wzk/mjbatchrenderer.pyx\n",
            "  Moving to /usr/local/lib/python3.7/dist-packages/mujoco_py/mjpid.pyx\n",
            "   from /tmp/pip-uninstall-62bz6wzk/mjpid.pyx\n",
            "  Moving to /usr/local/lib/python3.7/dist-packages/mujoco_py/mjrendercontext.pyx\n",
            "   from /tmp/pip-uninstall-62bz6wzk/mjrendercontext.pyx\n",
            "  Moving to /usr/local/lib/python3.7/dist-packages/mujoco_py/mjrenderpool.py\n",
            "   from /tmp/pip-uninstall-62bz6wzk/mjrenderpool.py\n",
            "  Moving to /usr/local/lib/python3.7/dist-packages/mujoco_py/mjsim.pyx\n",
            "   from /tmp/pip-uninstall-62bz6wzk/mjsim.pyx\n",
            "  Moving to /usr/local/lib/python3.7/dist-packages/mujoco_py/mjsimstate.pyx\n",
            "   from /tmp/pip-uninstall-62bz6wzk/mjsimstate.pyx\n",
            "  Moving to /usr/local/lib/python3.7/dist-packages/mujoco_py/mjviewer.py\n",
            "   from /tmp/pip-uninstall-62bz6wzk/mjviewer.py\n",
            "  Moving to /usr/local/lib/python3.7/dist-packages/mujoco_py/modder.py\n",
            "   from /tmp/pip-uninstall-62bz6wzk/modder.py\n",
            "  Moving to /usr/local/lib/python3.7/dist-packages/mujoco_py/opengl_context.pyx\n",
            "   from /tmp/pip-uninstall-62bz6wzk/opengl_context.pyx\n",
            "  Moving to /usr/local/lib/python3.7/dist-packages/mujoco_py/pxd/\n",
            "   from /usr/local/lib/python3.7/dist-packages/mujoco_py/~xd\n",
            "  Moving to /usr/local/lib/python3.7/dist-packages/mujoco_py/tests/\n",
            "   from /usr/local/lib/python3.7/dist-packages/mujoco_py/~ests\n",
            "  Moving to /usr/local/lib/python3.7/dist-packages/mujoco_py/utils.py\n",
            "   from /tmp/pip-uninstall-62bz6wzk/utils.py\n",
            "  Moving to /usr/local/lib/python3.7/dist-packages/mujoco_py/version.py\n",
            "   from /tmp/pip-uninstall-62bz6wzk/version.py\n",
            "\u001b[31mERROR: Command errored out with exit status 1: /usr/bin/python3 -u -c 'import io, os, sys, setuptools, tokenize; sys.argv[0] = '\"'\"'/tmp/pip-install-6v5i9321/mujoco-py_c81dc75903a74f77b25398d6eafc53c5/setup.py'\"'\"'; __file__='\"'\"'/tmp/pip-install-6v5i9321/mujoco-py_c81dc75903a74f77b25398d6eafc53c5/setup.py'\"'\"';f = getattr(tokenize, '\"'\"'open'\"'\"', open)(__file__) if os.path.exists(__file__) else io.StringIO('\"'\"'from setuptools import setup; setup()'\"'\"');code = f.read().replace('\"'\"'\\r\\n'\"'\"', '\"'\"'\\n'\"'\"');f.close();exec(compile(code, __file__, '\"'\"'exec'\"'\"'))' install --record /tmp/pip-record-2jh78xg9/install-record.txt --single-version-externally-managed --compile --install-headers /usr/local/include/python3.7/mujoco-py Check the logs for full command output.\u001b[0m\n",
            "Obtaining file:///content/drive/MyDrive/GitHub/mujoco-worldgen\n",
            "Installing collected packages: mujoco-worldgen\n",
            "  Running setup.py develop for mujoco-worldgen\n",
            "Successfully installed mujoco-worldgen-0.0.0\n",
            "Obtaining file:///content/drive/MyDrive/GitHub/multi-agent-emergence-environments\n",
            "Installing collected packages: mae-envs\n",
            "  Running setup.py develop for mae-envs\n",
            "Successfully installed mae-envs-0.0.0\n"
          ]
        }
      ]
    },
    {
      "cell_type": "markdown",
      "source": [
        "Creation of the env"
      ],
      "metadata": {
        "id": "wqLaFUv1Kf6x"
      }
    },
    {
      "cell_type": "code",
      "source": [
        "from mae_envs.envs import hide_and_seek\n",
        "\n",
        "hs_env = hide_and_seek.make_env()"
      ],
      "metadata": {
        "colab": {
          "base_uri": "https://localhost:8080/"
        },
        "id": "eL6MFv98KxEw",
        "outputId": "10fcdda1-807e-4048-e4d3-2c678f15d06c"
      },
      "execution_count": 3,
      "outputs": [
        {
          "output_type": "stream",
          "name": "stdout",
          "text": [
            "Compiling /usr/local/lib/python3.7/dist-packages/mujoco_py/cymj.pyx because it changed.\n",
            "[1/1] Cythonizing /usr/local/lib/python3.7/dist-packages/mujoco_py/cymj.pyx\n",
            "running build_ext\n",
            "building 'mujoco_py.cymj' extension\n",
            "creating /usr/local/lib/python3.7/dist-packages/mujoco_py/generated/_pyxbld_2.0.2.13_37_linuxcpuextensionbuilder\n",
            "creating /usr/local/lib/python3.7/dist-packages/mujoco_py/generated/_pyxbld_2.0.2.13_37_linuxcpuextensionbuilder/temp.linux-x86_64-3.7\n",
            "creating /usr/local/lib/python3.7/dist-packages/mujoco_py/generated/_pyxbld_2.0.2.13_37_linuxcpuextensionbuilder/temp.linux-x86_64-3.7/usr\n",
            "creating /usr/local/lib/python3.7/dist-packages/mujoco_py/generated/_pyxbld_2.0.2.13_37_linuxcpuextensionbuilder/temp.linux-x86_64-3.7/usr/local\n",
            "creating /usr/local/lib/python3.7/dist-packages/mujoco_py/generated/_pyxbld_2.0.2.13_37_linuxcpuextensionbuilder/temp.linux-x86_64-3.7/usr/local/lib\n",
            "creating /usr/local/lib/python3.7/dist-packages/mujoco_py/generated/_pyxbld_2.0.2.13_37_linuxcpuextensionbuilder/temp.linux-x86_64-3.7/usr/local/lib/python3.7\n",
            "creating /usr/local/lib/python3.7/dist-packages/mujoco_py/generated/_pyxbld_2.0.2.13_37_linuxcpuextensionbuilder/temp.linux-x86_64-3.7/usr/local/lib/python3.7/dist-packages\n",
            "creating /usr/local/lib/python3.7/dist-packages/mujoco_py/generated/_pyxbld_2.0.2.13_37_linuxcpuextensionbuilder/temp.linux-x86_64-3.7/usr/local/lib/python3.7/dist-packages/mujoco_py\n",
            "creating /usr/local/lib/python3.7/dist-packages/mujoco_py/generated/_pyxbld_2.0.2.13_37_linuxcpuextensionbuilder/temp.linux-x86_64-3.7/usr/local/lib/python3.7/dist-packages/mujoco_py/gl\n",
            "x86_64-linux-gnu-gcc -pthread -Wno-unused-result -Wsign-compare -DNDEBUG -g -fwrapv -O2 -Wall -g -fstack-protector-strong -Wformat -Werror=format-security -g -fwrapv -O2 -g -fstack-protector-strong -Wformat -Werror=format-security -Wdate-time -D_FORTIFY_SOURCE=2 -fPIC -I/usr/local/lib/python3.7/dist-packages/mujoco_py -I/usr/local/lib/python3.7/dist-packages/mujoco_py/binaries/linux/mujoco210/include -I/usr/local/lib/python3.7/dist-packages/numpy/core/include -I/usr/include/python3.7m -c /usr/local/lib/python3.7/dist-packages/mujoco_py/cymj.c -o /usr/local/lib/python3.7/dist-packages/mujoco_py/generated/_pyxbld_2.0.2.13_37_linuxcpuextensionbuilder/temp.linux-x86_64-3.7/usr/local/lib/python3.7/dist-packages/mujoco_py/cymj.o -fopenmp -w\n",
            "x86_64-linux-gnu-gcc -pthread -Wno-unused-result -Wsign-compare -DNDEBUG -g -fwrapv -O2 -Wall -g -fstack-protector-strong -Wformat -Werror=format-security -g -fwrapv -O2 -g -fstack-protector-strong -Wformat -Werror=format-security -Wdate-time -D_FORTIFY_SOURCE=2 -fPIC -I/usr/local/lib/python3.7/dist-packages/mujoco_py -I/usr/local/lib/python3.7/dist-packages/mujoco_py/binaries/linux/mujoco210/include -I/usr/local/lib/python3.7/dist-packages/numpy/core/include -I/usr/include/python3.7m -c /usr/local/lib/python3.7/dist-packages/mujoco_py/gl/osmesashim.c -o /usr/local/lib/python3.7/dist-packages/mujoco_py/generated/_pyxbld_2.0.2.13_37_linuxcpuextensionbuilder/temp.linux-x86_64-3.7/usr/local/lib/python3.7/dist-packages/mujoco_py/gl/osmesashim.o -fopenmp -w\n",
            "creating /usr/local/lib/python3.7/dist-packages/mujoco_py/generated/_pyxbld_2.0.2.13_37_linuxcpuextensionbuilder/lib.linux-x86_64-3.7\n",
            "creating /usr/local/lib/python3.7/dist-packages/mujoco_py/generated/_pyxbld_2.0.2.13_37_linuxcpuextensionbuilder/lib.linux-x86_64-3.7/mujoco_py\n",
            "x86_64-linux-gnu-gcc -pthread -shared -Wl,-O1 -Wl,-Bsymbolic-functions -Wl,-Bsymbolic-functions -g -fwrapv -O2 -Wl,-Bsymbolic-functions -g -fwrapv -O2 -g -fstack-protector-strong -Wformat -Werror=format-security -Wdate-time -D_FORTIFY_SOURCE=2 /usr/local/lib/python3.7/dist-packages/mujoco_py/generated/_pyxbld_2.0.2.13_37_linuxcpuextensionbuilder/temp.linux-x86_64-3.7/usr/local/lib/python3.7/dist-packages/mujoco_py/cymj.o /usr/local/lib/python3.7/dist-packages/mujoco_py/generated/_pyxbld_2.0.2.13_37_linuxcpuextensionbuilder/temp.linux-x86_64-3.7/usr/local/lib/python3.7/dist-packages/mujoco_py/gl/osmesashim.o -L/usr/local/lib/python3.7/dist-packages/mujoco_py/binaries/linux/mujoco210/bin -Wl,--enable-new-dtags,-R/usr/local/lib/python3.7/dist-packages/mujoco_py/binaries/linux/mujoco210/bin -lmujoco210 -lglewosmesa -lOSMesa -lGL -o /usr/local/lib/python3.7/dist-packages/mujoco_py/generated/_pyxbld_2.0.2.13_37_linuxcpuextensionbuilder/lib.linux-x86_64-3.7/mujoco_py/cymj.cpython-37m-x86_64-linux-gnu.so -fopenmp\n"
          ]
        }
      ]
    },
    {
      "cell_type": "markdown",
      "source": [
        "Understanding the env:"
      ],
      "metadata": {
        "id": "U1_sH5AguVxL"
      }
    },
    {
      "cell_type": "code",
      "source": [
        "hs_env.reset()\n",
        "print(hs_env.action_space)\n",
        "print(hs_env.observation_space)"
      ],
      "metadata": {
        "colab": {
          "base_uri": "https://localhost:8080/"
        },
        "id": "J5UIGp4uLk02",
        "outputId": "5f077065-113f-4407-f24d-bb8060f0b7ed"
      },
      "execution_count": 4,
      "outputs": [
        {
          "output_type": "stream",
          "name": "stdout",
          "text": [
            "Dict(action_movement:Tuple(MultiDiscrete([11 11 11]), MultiDiscrete([11 11 11])), action_pull:Tuple(Discrete(2), Discrete(2)), action_glueall:Tuple(Discrete(2), Discrete(2)))\n",
            "Dict(agent_qpos_qvel:Box(-inf, inf, (1, 10), float32), box_obs:Box(-inf, inf, (2, 12), float32), mask_aa_obs:Box(-inf, inf, (1,), float32), mask_ab_obs:Box(-inf, inf, (2,), float32), mask_ab_obs_spoof:Box(-inf, inf, (2,), float32), mask_ar_obs:Box(-inf, inf, (1,), float32), observation_self:Box(-inf, inf, (10,), float32), ramp_obs:Box(-inf, inf, (1, 12), float32))\n"
          ]
        }
      ]
    },
    {
      "cell_type": "markdown",
      "source": [
        "Classes for both the types of agents in the env"
      ],
      "metadata": {
        "id": "u24oMN7iuX8f"
      }
    },
    {
      "cell_type": "code",
      "source": [
        "class Hider:\n",
        "  def __init__(self, env):\n",
        "    self.env = env\n",
        "    self.observation_space = env.observation_space\n",
        "    self.action_space = env.action_space\n",
        "\n",
        "  def step(self, observation):\n",
        "    return np.random.choice(self.action_space.n)\n",
        "\n",
        "class Seeker:\n",
        "  def __init__(self, env):\n",
        "    self.env = env\n",
        "    self.observation_space = env.observation_space\n",
        "    self.action_space = env.action_space\n",
        "\n",
        "  def step(self, observation):\n",
        "    return np.random.choice(self.action_space.n)"
      ],
      "metadata": {
        "id": "_kKRuYV3qTZT"
      },
      "execution_count": 5,
      "outputs": []
    },
    {
      "cell_type": "code",
      "source": [
        "class Actor:\n",
        "  def __init__(self, alfr, actor_input_state_dim, actor_output_action_dim):\n",
        "    self.model = self.actor_network_model(alfr, actor_input_state_dim, actor_output_action_dim)\n",
        "    self.opt = tf.keras.optimizers.Adam(0.0005)\n",
        "\n",
        "  def actor_network_model(self, alr, actor_input_state_dim,actor_output_action_dim):\n",
        "    model = Sequential()\n",
        "    model.add(Dense(64, input_dim=actor_input_state_dim, activation='tanh'))\n",
        "    model.add(Dense(32, activation='tanh'))\n",
        "    model.add(Dense(actor_output_action_dim, activation='softmax'))\n",
        "    return model\n",
        "\n",
        "  def actor_train(self, obs, action, adv):\n",
        "    with tf.GradientTape() as tape:\n",
        "      actor_pred = self.model(obs, training=True)\n",
        "      actor_loss = tf.keras.losses.SparseCategoricalCrossentropy(from_logits=True)(action, actor_pred,sample_weight=tf.stop_gradient(adv))\n",
        "    grads = tape.gradient(actor_loss, self.model.trainable_variables)\n",
        "    self.opt.apply_gradients(zip(grads, self.model.trainable_variables))\n",
        "    return actor_loss"
      ],
      "metadata": {
        "id": "-DppVpeqrDmS"
      },
      "execution_count": 6,
      "outputs": []
    },
    {
      "cell_type": "code",
      "source": [
        "class Critic:\n",
        "  def __init__(self, clr, critic_input_state_dim, critic_output_action_dim):\n",
        "    self.model = self.critic_network_model(clr, critic_input_state_dim, critic_output_action_dim)\n",
        "    self.opt = tf.keras.optimizers.Adam(0.0005)\n",
        "\n",
        "  def critic_network_model(self,clr,critic_input_state_dim,critic_output_action_dim):\n",
        "    model = Sequential()\n",
        "    model.add(Dense(64, input_dim=critic_input_state_dim, activation='relu'))\n",
        "    model.add(Dense(32, activation='relu'))\n",
        "    model.add(Dense(critic_output_action_dim, activation='linear'))\n",
        "    return model\n",
        "    \n",
        "  def critic_train(self, obs, adv):\n",
        "    with tf.GradientTape() as tape:\n",
        "      critic_pred = self.model(obs, training=True)\n",
        "      critic_loss = tf.keras.losses.MeanSquaredError()(tf.stop_gradient(adv), critic_pred)\n",
        "    critic_grads = tape.gradient(critic_loss, self.model.trainable_variables)\n",
        "    self.opt.apply_gradients(zip(critic_grads, self.model.trainable_variables))\n",
        "    return critic_loss"
      ],
      "metadata": {
        "id": "3WxwmvRjrFjj"
      },
      "execution_count": 7,
      "outputs": []
    },
    {
      "cell_type": "code",
      "source": [
        "class A2C:\n",
        "  def __init__(self, env, hider, seeker):\n",
        "    self.env = env\n",
        "    self.hider = hider\n",
        "    self.seeker = seeker\n",
        "    self.observation_space = env.observation_space     #dictionary with multiple keys\n",
        "    self.obervation_size = len(env.observation_space) \n",
        "    obervation_size  \n",
        "    self.action_space = env.action_space   #dictionary with 3 keys\n",
        "    self.reward_per_episode = []\n",
        "    self.average_reward = [0]*10\n",
        "\n",
        "  def train(self,episodes,gamma,actor_lr, critic_lr):\n",
        "    obs = self.env.reset()\n",
        "    #action_size = self.env.action_space.shape[0]\n",
        "    self.actor = Actor(actor_lr,self.obervation_size,action_size)\n",
        "    self.critic = Critic(critic_lr,self.obervation_size,1)\n",
        "    average_idx = 0\n",
        "\n",
        "    #print(\"8: episodes begin\")\n",
        "    for eps_n in range(episodes):\n",
        "        obs = self.env.reset()\n",
        "        done_iter = False\n",
        "        cumm_reward=0\n",
        "        step_no=1\n",
        "\n",
        "        #print(\"9: steps start for episode {}\".format(str(eps_n)))\n",
        "        while not done_iter:\n",
        "          \n",
        "          obs_reshaped = tf.reshape(helper(obs),(1,self.obervation_size))\n",
        "\n",
        "          next_q = self.actor.model.predict(obs_reshaped)\n",
        "          #print(\"next_q: {}\".format(next_q))\n",
        "\n",
        "          action_prob = tfp.distributions.Categorical(probs=next_q)\n",
        "          #print(\"action_prob {}\".format(action_prob))\n",
        "          action = action_prob.sample()\n",
        "\n",
        "          action_scaler = tf.gather(action,0).numpy()\n",
        "          #print(\"action_scaler: {}\".format(action_scaler))\n",
        "\n",
        "          obs_next, reward, done_iter, info = self.env.step(action_scaler)\n",
        "          #print(\"obs_next: {}\".format(obs_next))\n",
        "          #print(\"reward: {}\".format(reward))\n",
        "          #print(\"done_iter: {}\".format(done_iter))\n",
        "          #print(\"info: {}\".format(info))\n",
        "\n",
        "          critic_obs = self.critic.model.predict(obs_reshaped) \n",
        "          #print(\"critic_obs: {}\".format(critic_obs))\n",
        "\n",
        "          obs_next_reshaped = tf.reshape(helper(obs_next),(1,self.obervation_size))\n",
        "          critic_obs_next = self.critic.model.predict(obs_next_reshaped) \n",
        "          #print(\"critic_obs_next: {}\".format(critic_obs_next))\n",
        "\n",
        "          adv = reward + (1-done_iter)*gamma*critic_obs_next - critic_obs\n",
        "          #print(\"self.adv: {}\".format(self.adv))\n",
        "\n",
        "          critic_loss = self.critic.critic_train(obs_reshaped, adv+critic_obs)\n",
        "          actor_loss = self.actor.actor_train(obs_reshaped,action, adv)\n",
        "\n",
        "          cumm_reward += reward\n",
        "          obs = obs_next\n",
        "          step_no += 1\n",
        "\n",
        "        self.reward_per_episode.append(cumm_reward)\n",
        "        average_idx = 0 if average_idx == 9 else 1 + average_idx\n",
        "        self.average_reward[average_idx] = cumm_reward\n",
        "        avg_reward = int(sum(self.average_reward)/len(self.average_reward))\n",
        "        if avg_reward >300: \n",
        "          break \n",
        "          print(\"average reward for the last consecutive episodes is \"+ avg_reward +\"greater than 470\")\n",
        "        print(\"cummulative reward is \" + str(cumm_reward) + \" for episode no. \" + str(eps_n + 1)  )  \n",
        "\n",
        "          \n",
        "          "
      ],
      "metadata": {
        "id": "96pzghCWrHdr"
      },
      "execution_count": 11,
      "outputs": []
    },
    {
      "cell_type": "code",
      "source": [
        "\n",
        "hider = Hider(hs_env)\n",
        "seeker = Seeker(hs_env)\n",
        "\n",
        "number_of_episodes = 5000\n",
        "\n",
        "a2c = A2C(hs_env, hider, seeker)\n",
        "\n",
        "a2c.train(episodes = number_of_episodes,gamma = 0.99, actor_lr = 0.001, critic_lr = 0.001)"
      ],
      "metadata": {
        "id": "Ccts3YOzuiuD"
      },
      "execution_count": null,
      "outputs": []
    },
    {
      "cell_type": "code",
      "source": [
        ""
      ],
      "metadata": {
        "id": "Vw5wdNZorT4L"
      },
      "execution_count": null,
      "outputs": []
    }
  ]
}